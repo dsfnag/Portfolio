{
 "cells": [
  {
   "cell_type": "code",
   "execution_count": 1,
   "metadata": {
    "_cell_guid": "b1076dfc-b9ad-4769-8c92-a6c4dae69d19",
    "_uuid": "8f2839f25d086af736a60e9eeb907d3b93b6e0e5",
    "colab": {},
    "colab_type": "code",
    "id": "U2D2gTdJVp90"
   },
   "outputs": [],
   "source": [
    "import numpy as np\n",
    "import pandas as pd\n",
    "import seaborn as sns\n",
    "import matplotlib.pyplot as plt\n",
    "from collections import Counter\n",
    "from itertools import chain, combinations"
   ]
  },
  {
   "cell_type": "code",
   "execution_count": 2,
   "metadata": {
    "_cell_guid": "79c7e3d0-c299-4dcb-8224-4455121ee9b0",
    "_uuid": "d629ff2d2480ee46fbb7e2d37f6b5fab8052498a",
    "colab": {},
    "colab_type": "code",
    "id": "oyGfxL3eVp9-"
   },
   "outputs": [
    {
     "data": {
      "text/html": [
       "<div>\n",
       "<style scoped>\n",
       "    .dataframe tbody tr th:only-of-type {\n",
       "        vertical-align: middle;\n",
       "    }\n",
       "\n",
       "    .dataframe tbody tr th {\n",
       "        vertical-align: top;\n",
       "    }\n",
       "\n",
       "    .dataframe thead th {\n",
       "        text-align: right;\n",
       "    }\n",
       "</style>\n",
       "<table border=\"1\" class=\"dataframe\">\n",
       "  <thead>\n",
       "    <tr style=\"text-align: right;\">\n",
       "      <th></th>\n",
       "      <th>imdb_id</th>\n",
       "      <th>budget</th>\n",
       "      <th>revenue</th>\n",
       "      <th>original_title</th>\n",
       "      <th>cast</th>\n",
       "      <th>director</th>\n",
       "      <th>tagline</th>\n",
       "      <th>overview</th>\n",
       "      <th>runtime</th>\n",
       "      <th>genres</th>\n",
       "      <th>production_companies</th>\n",
       "      <th>release_date</th>\n",
       "      <th>vote_average</th>\n",
       "      <th>release_year</th>\n",
       "    </tr>\n",
       "  </thead>\n",
       "  <tbody>\n",
       "    <tr>\n",
       "      <th>1110</th>\n",
       "      <td>tt0311113</td>\n",
       "      <td>150000000</td>\n",
       "      <td>212011111</td>\n",
       "      <td>Master and Commander: The Far Side of the World</td>\n",
       "      <td>Russell Crowe|Paul Bettany|James D'Arcy|Billy ...</td>\n",
       "      <td>Peter Weir</td>\n",
       "      <td>The Courage to Do the Impossible Lies in the H...</td>\n",
       "      <td>After an abrupt and violent encounter with a F...</td>\n",
       "      <td>138</td>\n",
       "      <td>Adventure</td>\n",
       "      <td>Universal Pictures|Twentieth Century Fox Film ...</td>\n",
       "      <td>11/14/2003</td>\n",
       "      <td>6.60</td>\n",
       "      <td>2003</td>\n",
       "    </tr>\n",
       "    <tr>\n",
       "      <th>1518</th>\n",
       "      <td>tt0493430</td>\n",
       "      <td>11000000</td>\n",
       "      <td>72778712</td>\n",
       "      <td>Jackass Number Two</td>\n",
       "      <td>Johnny Knoxville|Bam Margera|Steve-O|Chris Pon...</td>\n",
       "      <td>Jeff Tremaine</td>\n",
       "      <td>Guess who just made number two?</td>\n",
       "      <td>Jackass Number Two is a compilation of various...</td>\n",
       "      <td>95</td>\n",
       "      <td>Action|Comedy|Documentary</td>\n",
       "      <td>Paramount Pictures</td>\n",
       "      <td>9/22/2006</td>\n",
       "      <td>6.40</td>\n",
       "      <td>2006</td>\n",
       "    </tr>\n",
       "    <tr>\n",
       "      <th>1149</th>\n",
       "      <td>tt0309530</td>\n",
       "      <td>35000000</td>\n",
       "      <td>20298207</td>\n",
       "      <td>Down with Love</td>\n",
       "      <td>RenÃ©e Zellweger|Ewan McGregor|Sarah Paulson|D...</td>\n",
       "      <td>Peyton Reed</td>\n",
       "      <td>The ultimate catch has met his match</td>\n",
       "      <td>Aaaah... it's New York City in 1962, and love ...</td>\n",
       "      <td>101</td>\n",
       "      <td>Action|Comedy|Romance|Thriller</td>\n",
       "      <td>Regency Enterprises|Fox 2000 Pictures|Epsilon ...</td>\n",
       "      <td>5/8/2003</td>\n",
       "      <td>6.00</td>\n",
       "      <td>2003</td>\n",
       "    </tr>\n",
       "    <tr>\n",
       "      <th>973</th>\n",
       "      <td>tt1853728</td>\n",
       "      <td>100000000</td>\n",
       "      <td>425368238</td>\n",
       "      <td>Django Unchained</td>\n",
       "      <td>Jamie Foxx|Christoph Waltz|Leonardo DiCaprio|K...</td>\n",
       "      <td>Quentin Tarantino</td>\n",
       "      <td>Life, liberty and the pursuit of vengeance.</td>\n",
       "      <td>With the help of a German bounty hunter, a fre...</td>\n",
       "      <td>165</td>\n",
       "      <td>Drama|Western</td>\n",
       "      <td>Columbia Pictures|The Weinstein Company</td>\n",
       "      <td>12/25/2012</td>\n",
       "      <td>7.70</td>\n",
       "      <td>2012</td>\n",
       "    </tr>\n",
       "    <tr>\n",
       "      <th>1683</th>\n",
       "      <td>tt0259324</td>\n",
       "      <td>110000000</td>\n",
       "      <td>228738393</td>\n",
       "      <td>Ghost Rider</td>\n",
       "      <td>Nicolas Cage|Eva Mendes|Wes Bentley|Donal Logu...</td>\n",
       "      <td>Mark Steven Johnson</td>\n",
       "      <td>Hell Is About To Be Unleashed</td>\n",
       "      <td>In order to save his dying father, young stunt...</td>\n",
       "      <td>114</td>\n",
       "      <td>Thriller|Action|Fantasy|Horror</td>\n",
       "      <td>Columbia Pictures Corporation|Relativity Media...</td>\n",
       "      <td>2/16/2007</td>\n",
       "      <td>5.20</td>\n",
       "      <td>2007</td>\n",
       "    </tr>\n",
       "  </tbody>\n",
       "</table>\n",
       "</div>"
      ],
      "text/plain": [
       "        imdb_id     budget    revenue  \\\n",
       "1110  tt0311113  150000000  212011111   \n",
       "1518  tt0493430   11000000   72778712   \n",
       "1149  tt0309530   35000000   20298207   \n",
       "973   tt1853728  100000000  425368238   \n",
       "1683  tt0259324  110000000  228738393   \n",
       "\n",
       "                                       original_title  \\\n",
       "1110  Master and Commander: The Far Side of the World   \n",
       "1518                               Jackass Number Two   \n",
       "1149                                   Down with Love   \n",
       "973                                  Django Unchained   \n",
       "1683                                      Ghost Rider   \n",
       "\n",
       "                                                   cast             director  \\\n",
       "1110  Russell Crowe|Paul Bettany|James D'Arcy|Billy ...           Peter Weir   \n",
       "1518  Johnny Knoxville|Bam Margera|Steve-O|Chris Pon...        Jeff Tremaine   \n",
       "1149  RenÃ©e Zellweger|Ewan McGregor|Sarah Paulson|D...          Peyton Reed   \n",
       "973   Jamie Foxx|Christoph Waltz|Leonardo DiCaprio|K...    Quentin Tarantino   \n",
       "1683  Nicolas Cage|Eva Mendes|Wes Bentley|Donal Logu...  Mark Steven Johnson   \n",
       "\n",
       "                                                tagline  \\\n",
       "1110  The Courage to Do the Impossible Lies in the H...   \n",
       "1518                    Guess who just made number two?   \n",
       "1149               The ultimate catch has met his match   \n",
       "973         Life, liberty and the pursuit of vengeance.   \n",
       "1683                      Hell Is About To Be Unleashed   \n",
       "\n",
       "                                               overview  runtime  \\\n",
       "1110  After an abrupt and violent encounter with a F...      138   \n",
       "1518  Jackass Number Two is a compilation of various...       95   \n",
       "1149  Aaaah... it's New York City in 1962, and love ...      101   \n",
       "973   With the help of a German bounty hunter, a fre...      165   \n",
       "1683  In order to save his dying father, young stunt...      114   \n",
       "\n",
       "                              genres  \\\n",
       "1110                       Adventure   \n",
       "1518       Action|Comedy|Documentary   \n",
       "1149  Action|Comedy|Romance|Thriller   \n",
       "973                    Drama|Western   \n",
       "1683  Thriller|Action|Fantasy|Horror   \n",
       "\n",
       "                                   production_companies release_date  \\\n",
       "1110  Universal Pictures|Twentieth Century Fox Film ...   11/14/2003   \n",
       "1518                                 Paramount Pictures    9/22/2006   \n",
       "1149  Regency Enterprises|Fox 2000 Pictures|Epsilon ...     5/8/2003   \n",
       "973             Columbia Pictures|The Weinstein Company   12/25/2012   \n",
       "1683  Columbia Pictures Corporation|Relativity Media...    2/16/2007   \n",
       "\n",
       "      vote_average  release_year  \n",
       "1110          6.60          2003  \n",
       "1518          6.40          2006  \n",
       "1149          6.00          2003  \n",
       "973           7.70          2012  \n",
       "1683          5.20          2007  "
      ]
     },
     "execution_count": 2,
     "metadata": {},
     "output_type": "execute_result"
    }
   ],
   "source": [
    "# Загрузим таблицу с исходными данными\n",
    "data = pd.read_csv('movie_bd_v5.csv')\n",
    "\n",
    "# Установим количество отображаемых десятичных знаков\n",
    "pd.set_option('precision', 2)\n",
    "pd.options.display.float_format = '{:.2f}'.format\n",
    " \n",
    "# Посмотрим на выборку случайных записей из исходной таблицы\n",
    "data.sample(5)"
   ]
  },
  {
   "cell_type": "code",
   "execution_count": 3,
   "metadata": {
    "colab": {},
    "colab_type": "code",
    "id": "CoYUnagMVp-C"
   },
   "outputs": [
    {
     "data": {
      "text/html": [
       "<div>\n",
       "<style scoped>\n",
       "    .dataframe tbody tr th:only-of-type {\n",
       "        vertical-align: middle;\n",
       "    }\n",
       "\n",
       "    .dataframe tbody tr th {\n",
       "        vertical-align: top;\n",
       "    }\n",
       "\n",
       "    .dataframe thead th {\n",
       "        text-align: right;\n",
       "    }\n",
       "</style>\n",
       "<table border=\"1\" class=\"dataframe\">\n",
       "  <thead>\n",
       "    <tr style=\"text-align: right;\">\n",
       "      <th></th>\n",
       "      <th>budget</th>\n",
       "      <th>revenue</th>\n",
       "      <th>runtime</th>\n",
       "      <th>vote_average</th>\n",
       "      <th>release_year</th>\n",
       "    </tr>\n",
       "  </thead>\n",
       "  <tbody>\n",
       "    <tr>\n",
       "      <th>count</th>\n",
       "      <td>1889.00</td>\n",
       "      <td>1889.00</td>\n",
       "      <td>1889.00</td>\n",
       "      <td>1889.00</td>\n",
       "      <td>1889.00</td>\n",
       "    </tr>\n",
       "    <tr>\n",
       "      <th>mean</th>\n",
       "      <td>54310829.64</td>\n",
       "      <td>155365321.08</td>\n",
       "      <td>109.66</td>\n",
       "      <td>6.14</td>\n",
       "      <td>2007.86</td>\n",
       "    </tr>\n",
       "    <tr>\n",
       "      <th>std</th>\n",
       "      <td>48587207.45</td>\n",
       "      <td>214669813.15</td>\n",
       "      <td>18.02</td>\n",
       "      <td>0.76</td>\n",
       "      <td>4.47</td>\n",
       "    </tr>\n",
       "    <tr>\n",
       "      <th>min</th>\n",
       "      <td>5000000.00</td>\n",
       "      <td>2033165.00</td>\n",
       "      <td>63.00</td>\n",
       "      <td>3.30</td>\n",
       "      <td>2000.00</td>\n",
       "    </tr>\n",
       "    <tr>\n",
       "      <th>25%</th>\n",
       "      <td>20000000.00</td>\n",
       "      <td>34560577.00</td>\n",
       "      <td>97.00</td>\n",
       "      <td>5.60</td>\n",
       "      <td>2004.00</td>\n",
       "    </tr>\n",
       "    <tr>\n",
       "      <th>50%</th>\n",
       "      <td>38000000.00</td>\n",
       "      <td>83615414.00</td>\n",
       "      <td>107.00</td>\n",
       "      <td>6.10</td>\n",
       "      <td>2008.00</td>\n",
       "    </tr>\n",
       "    <tr>\n",
       "      <th>75%</th>\n",
       "      <td>72000000.00</td>\n",
       "      <td>178262620.00</td>\n",
       "      <td>120.00</td>\n",
       "      <td>6.60</td>\n",
       "      <td>2012.00</td>\n",
       "    </tr>\n",
       "    <tr>\n",
       "      <th>max</th>\n",
       "      <td>380000000.00</td>\n",
       "      <td>2781505847.00</td>\n",
       "      <td>214.00</td>\n",
       "      <td>8.10</td>\n",
       "      <td>2015.00</td>\n",
       "    </tr>\n",
       "  </tbody>\n",
       "</table>\n",
       "</div>"
      ],
      "text/plain": [
       "            budget       revenue  runtime  vote_average  release_year\n",
       "count      1889.00       1889.00  1889.00       1889.00       1889.00\n",
       "mean   54310829.64  155365321.08   109.66          6.14       2007.86\n",
       "std    48587207.45  214669813.15    18.02          0.76          4.47\n",
       "min     5000000.00    2033165.00    63.00          3.30       2000.00\n",
       "25%    20000000.00   34560577.00    97.00          5.60       2004.00\n",
       "50%    38000000.00   83615414.00   107.00          6.10       2008.00\n",
       "75%    72000000.00  178262620.00   120.00          6.60       2012.00\n",
       "max   380000000.00 2781505847.00   214.00          8.10       2015.00"
      ]
     },
     "execution_count": 3,
     "metadata": {},
     "output_type": "execute_result"
    }
   ],
   "source": [
    "# Посмотрим сводку числовых значений\n",
    "data.describe()"
   ]
  },
  {
   "cell_type": "code",
   "execution_count": 4,
   "metadata": {
    "colab": {},
    "colab_type": "code",
    "id": "CoYUnagMVp-C"
   },
   "outputs": [
    {
     "data": {
      "text/html": [
       "<div>\n",
       "<style scoped>\n",
       "    .dataframe tbody tr th:only-of-type {\n",
       "        vertical-align: middle;\n",
       "    }\n",
       "\n",
       "    .dataframe tbody tr th {\n",
       "        vertical-align: top;\n",
       "    }\n",
       "\n",
       "    .dataframe thead th {\n",
       "        text-align: right;\n",
       "    }\n",
       "</style>\n",
       "<table border=\"1\" class=\"dataframe\">\n",
       "  <thead>\n",
       "    <tr style=\"text-align: right;\">\n",
       "      <th></th>\n",
       "      <th>imdb_id</th>\n",
       "      <th>original_title</th>\n",
       "      <th>cast</th>\n",
       "      <th>director</th>\n",
       "      <th>tagline</th>\n",
       "      <th>overview</th>\n",
       "      <th>genres</th>\n",
       "      <th>production_companies</th>\n",
       "      <th>release_date</th>\n",
       "    </tr>\n",
       "  </thead>\n",
       "  <tbody>\n",
       "    <tr>\n",
       "      <th>count</th>\n",
       "      <td>1889</td>\n",
       "      <td>1889</td>\n",
       "      <td>1889</td>\n",
       "      <td>1889</td>\n",
       "      <td>1889</td>\n",
       "      <td>1889</td>\n",
       "      <td>1889</td>\n",
       "      <td>1889</td>\n",
       "      <td>1889</td>\n",
       "    </tr>\n",
       "    <tr>\n",
       "      <th>unique</th>\n",
       "      <td>1889</td>\n",
       "      <td>1887</td>\n",
       "      <td>1878</td>\n",
       "      <td>957</td>\n",
       "      <td>1880</td>\n",
       "      <td>1889</td>\n",
       "      <td>652</td>\n",
       "      <td>1624</td>\n",
       "      <td>1435</td>\n",
       "    </tr>\n",
       "    <tr>\n",
       "      <th>top</th>\n",
       "      <td>tt0192255</td>\n",
       "      <td>The Gift</td>\n",
       "      <td>Jennifer Lawrence|Josh Hutcherson|Liam Hemswor...</td>\n",
       "      <td>Steven Soderbergh</td>\n",
       "      <td>The only way out is down.</td>\n",
       "      <td>Thor fights to restore order across the cosmos...</td>\n",
       "      <td>Comedy</td>\n",
       "      <td>New Line Cinema</td>\n",
       "      <td>12/25/2014</td>\n",
       "    </tr>\n",
       "    <tr>\n",
       "      <th>freq</th>\n",
       "      <td>1</td>\n",
       "      <td>2</td>\n",
       "      <td>3</td>\n",
       "      <td>13</td>\n",
       "      <td>2</td>\n",
       "      <td>1</td>\n",
       "      <td>141</td>\n",
       "      <td>21</td>\n",
       "      <td>7</td>\n",
       "    </tr>\n",
       "  </tbody>\n",
       "</table>\n",
       "</div>"
      ],
      "text/plain": [
       "          imdb_id original_title  \\\n",
       "count        1889           1889   \n",
       "unique       1889           1887   \n",
       "top     tt0192255       The Gift   \n",
       "freq            1              2   \n",
       "\n",
       "                                                     cast           director  \\\n",
       "count                                                1889               1889   \n",
       "unique                                               1878                957   \n",
       "top     Jennifer Lawrence|Josh Hutcherson|Liam Hemswor...  Steven Soderbergh   \n",
       "freq                                                    3                 13   \n",
       "\n",
       "                          tagline  \\\n",
       "count                        1889   \n",
       "unique                       1880   \n",
       "top     The only way out is down.   \n",
       "freq                            2   \n",
       "\n",
       "                                                 overview  genres  \\\n",
       "count                                                1889    1889   \n",
       "unique                                               1889     652   \n",
       "top     Thor fights to restore order across the cosmos...  Comedy   \n",
       "freq                                                    1     141   \n",
       "\n",
       "       production_companies release_date  \n",
       "count                  1889         1889  \n",
       "unique                 1624         1435  \n",
       "top         New Line Cinema   12/25/2014  \n",
       "freq                     21            7  "
      ]
     },
     "execution_count": 4,
     "metadata": {},
     "output_type": "execute_result"
    }
   ],
   "source": [
    "# Изучим сводку атрибутов\n",
    "data.describe(include=object)"
   ]
  },
  {
   "cell_type": "code",
   "execution_count": 5,
   "metadata": {
    "colab": {},
    "colab_type": "code",
    "id": "CoYUnagMVp-C"
   },
   "outputs": [
    {
     "name": "stdout",
     "output_type": "stream",
     "text": [
      "<class 'pandas.core.frame.DataFrame'>\n",
      "RangeIndex: 1889 entries, 0 to 1888\n",
      "Data columns (total 14 columns):\n",
      " #   Column                Non-Null Count  Dtype  \n",
      "---  ------                --------------  -----  \n",
      " 0   imdb_id               1889 non-null   object \n",
      " 1   budget                1889 non-null   int64  \n",
      " 2   revenue               1889 non-null   int64  \n",
      " 3   original_title        1889 non-null   object \n",
      " 4   cast                  1889 non-null   object \n",
      " 5   director              1889 non-null   object \n",
      " 6   tagline               1889 non-null   object \n",
      " 7   overview              1889 non-null   object \n",
      " 8   runtime               1889 non-null   int64  \n",
      " 9   genres                1889 non-null   object \n",
      " 10  production_companies  1889 non-null   object \n",
      " 11  release_date          1889 non-null   object \n",
      " 12  vote_average          1889 non-null   float64\n",
      " 13  release_year          1889 non-null   int64  \n",
      "dtypes: float64(1), int64(4), object(9)\n",
      "memory usage: 206.7+ KB\n"
     ]
    }
   ],
   "source": [
    "# Посмотрим информацию о структуре и типах данных\n",
    "data.info()"
   ]
  },
  {
   "cell_type": "code",
   "execution_count": 6,
   "metadata": {
    "colab": {},
    "colab_type": "code",
    "id": "CoYUnagMVp-C"
   },
   "outputs": [
    {
     "data": {
      "text/plain": [
       "imdb_id                 0\n",
       "budget                  0\n",
       "revenue                 0\n",
       "original_title          0\n",
       "cast                    0\n",
       "director                0\n",
       "tagline                 0\n",
       "overview                0\n",
       "runtime                 0\n",
       "genres                  0\n",
       "production_companies    0\n",
       "release_date            0\n",
       "vote_average            0\n",
       "release_year            0\n",
       "dtype: int64"
      ]
     },
     "execution_count": 6,
     "metadata": {},
     "output_type": "execute_result"
    }
   ],
   "source": [
    "# Проверим наличие NaN\n",
    "data.isna().sum()"
   ]
  },
  {
   "cell_type": "markdown",
   "metadata": {
    "colab_type": "text",
    "id": "DTIt7ezGVp-G"
   },
   "source": [
    "# Предобработка"
   ]
  },
  {
   "cell_type": "code",
   "execution_count": 7,
   "metadata": {
    "colab": {},
    "colab_type": "code",
    "id": "jNb40DwKVp-H",
    "scrolled": false
   },
   "outputs": [
    {
     "data": {
      "text/html": [
       "<div>\n",
       "<style scoped>\n",
       "    .dataframe tbody tr th:only-of-type {\n",
       "        vertical-align: middle;\n",
       "    }\n",
       "\n",
       "    .dataframe tbody tr th {\n",
       "        vertical-align: top;\n",
       "    }\n",
       "\n",
       "    .dataframe thead th {\n",
       "        text-align: right;\n",
       "    }\n",
       "</style>\n",
       "<table border=\"1\" class=\"dataframe\">\n",
       "  <thead>\n",
       "    <tr style=\"text-align: right;\">\n",
       "      <th></th>\n",
       "      <th>imdb_id</th>\n",
       "      <th>budget</th>\n",
       "      <th>revenue</th>\n",
       "      <th>original_title</th>\n",
       "      <th>cast</th>\n",
       "      <th>director</th>\n",
       "      <th>tagline</th>\n",
       "      <th>overview</th>\n",
       "      <th>runtime</th>\n",
       "      <th>genres</th>\n",
       "      <th>...</th>\n",
       "      <th>release_date</th>\n",
       "      <th>vote_average</th>\n",
       "      <th>release_year</th>\n",
       "      <th>profit</th>\n",
       "      <th>list_genres</th>\n",
       "      <th>list_director</th>\n",
       "      <th>list_cast</th>\n",
       "      <th>list_production_companies</th>\n",
       "      <th>release_month</th>\n",
       "      <th>release_season</th>\n",
       "    </tr>\n",
       "  </thead>\n",
       "  <tbody>\n",
       "    <tr>\n",
       "      <th>1767</th>\n",
       "      <td>tt0419887</td>\n",
       "      <td>20000000</td>\n",
       "      <td>73276047</td>\n",
       "      <td>The Kite Runner</td>\n",
       "      <td>Khalid Abdalla|Atossa Leoni|Shaun Toub|Zekeria...</td>\n",
       "      <td>Marc Forster</td>\n",
       "      <td>There is a way to be good again.</td>\n",
       "      <td>The Kite Runner is a 2007 American drama film ...</td>\n",
       "      <td>128</td>\n",
       "      <td>Drama</td>\n",
       "      <td>...</td>\n",
       "      <td>10/14/2007</td>\n",
       "      <td>7.30</td>\n",
       "      <td>2007</td>\n",
       "      <td>53276047</td>\n",
       "      <td>[Drama]</td>\n",
       "      <td>[Marc Forster]</td>\n",
       "      <td>[Khalid Abdalla, Atossa Leoni, Shaun Toub, Zek...</td>\n",
       "      <td>[DreamWorks SKG, MacDonald/Parkes Productions,...</td>\n",
       "      <td>10</td>\n",
       "      <td>autumn</td>\n",
       "    </tr>\n",
       "    <tr>\n",
       "      <th>1650</th>\n",
       "      <td>tt0377062</td>\n",
       "      <td>45000000</td>\n",
       "      <td>21009180</td>\n",
       "      <td>Flight of the Phoenix</td>\n",
       "      <td>Dennis Quaid|Tyrese Gibson|Giovanni Ribisi|Mir...</td>\n",
       "      <td>John Moore</td>\n",
       "      <td>Out of the ashes, hope will rise.</td>\n",
       "      <td>When an Amacor oil rig in the Gobi Desert of M...</td>\n",
       "      <td>113</td>\n",
       "      <td>Action|Adventure|Drama|Thriller</td>\n",
       "      <td>...</td>\n",
       "      <td>12/17/2004</td>\n",
       "      <td>5.40</td>\n",
       "      <td>2004</td>\n",
       "      <td>-23990820</td>\n",
       "      <td>[Action, Adventure, Drama, Thriller]</td>\n",
       "      <td>[John Moore]</td>\n",
       "      <td>[Dennis Quaid, Tyrese Gibson, Giovanni Ribisi,...</td>\n",
       "      <td>[Twentieth Century Fox Film Corporation, Davis...</td>\n",
       "      <td>12</td>\n",
       "      <td>winter</td>\n",
       "    </tr>\n",
       "    <tr>\n",
       "      <th>1464</th>\n",
       "      <td>tt0424095</td>\n",
       "      <td>149000000</td>\n",
       "      <td>64459316</td>\n",
       "      <td>Flushed Away</td>\n",
       "      <td>Hugh Jackman|Kate Winslet|Ian McKellen|Jean Re...</td>\n",
       "      <td>David Bowers|Sam Fell</td>\n",
       "      <td>Someone's Going Down</td>\n",
       "      <td>London high-society mouse, Roddy is flushed do...</td>\n",
       "      <td>85</td>\n",
       "      <td>Adventure|Animation|Comedy|Family</td>\n",
       "      <td>...</td>\n",
       "      <td>10/22/2006</td>\n",
       "      <td>6.00</td>\n",
       "      <td>2006</td>\n",
       "      <td>-84540684</td>\n",
       "      <td>[Adventure, Animation, Comedy, Family]</td>\n",
       "      <td>[David Bowers, Sam Fell]</td>\n",
       "      <td>[Hugh Jackman, Kate Winslet, Ian McKellen, Jea...</td>\n",
       "      <td>[Aardman Animations, DreamWorks Animation]</td>\n",
       "      <td>10</td>\n",
       "      <td>autumn</td>\n",
       "    </tr>\n",
       "  </tbody>\n",
       "</table>\n",
       "<p>3 rows × 21 columns</p>\n",
       "</div>"
      ],
      "text/plain": [
       "        imdb_id     budget   revenue         original_title  \\\n",
       "1767  tt0419887   20000000  73276047        The Kite Runner   \n",
       "1650  tt0377062   45000000  21009180  Flight of the Phoenix   \n",
       "1464  tt0424095  149000000  64459316           Flushed Away   \n",
       "\n",
       "                                                   cast  \\\n",
       "1767  Khalid Abdalla|Atossa Leoni|Shaun Toub|Zekeria...   \n",
       "1650  Dennis Quaid|Tyrese Gibson|Giovanni Ribisi|Mir...   \n",
       "1464  Hugh Jackman|Kate Winslet|Ian McKellen|Jean Re...   \n",
       "\n",
       "                   director                            tagline  \\\n",
       "1767           Marc Forster   There is a way to be good again.   \n",
       "1650             John Moore  Out of the ashes, hope will rise.   \n",
       "1464  David Bowers|Sam Fell               Someone's Going Down   \n",
       "\n",
       "                                               overview  runtime  \\\n",
       "1767  The Kite Runner is a 2007 American drama film ...      128   \n",
       "1650  When an Amacor oil rig in the Gobi Desert of M...      113   \n",
       "1464  London high-society mouse, Roddy is flushed do...       85   \n",
       "\n",
       "                                 genres  ... release_date vote_average  \\\n",
       "1767                              Drama  ...   10/14/2007         7.30   \n",
       "1650    Action|Adventure|Drama|Thriller  ...   12/17/2004         5.40   \n",
       "1464  Adventure|Animation|Comedy|Family  ...   10/22/2006         6.00   \n",
       "\n",
       "      release_year    profit                             list_genres  \\\n",
       "1767          2007  53276047                                 [Drama]   \n",
       "1650          2004 -23990820    [Action, Adventure, Drama, Thriller]   \n",
       "1464          2006 -84540684  [Adventure, Animation, Comedy, Family]   \n",
       "\n",
       "                 list_director  \\\n",
       "1767            [Marc Forster]   \n",
       "1650              [John Moore]   \n",
       "1464  [David Bowers, Sam Fell]   \n",
       "\n",
       "                                              list_cast  \\\n",
       "1767  [Khalid Abdalla, Atossa Leoni, Shaun Toub, Zek...   \n",
       "1650  [Dennis Quaid, Tyrese Gibson, Giovanni Ribisi,...   \n",
       "1464  [Hugh Jackman, Kate Winslet, Ian McKellen, Jea...   \n",
       "\n",
       "                              list_production_companies release_month  \\\n",
       "1767  [DreamWorks SKG, MacDonald/Parkes Productions,...            10   \n",
       "1650  [Twentieth Century Fox Film Corporation, Davis...            12   \n",
       "1464         [Aardman Animations, DreamWorks Animation]            10   \n",
       "\n",
       "      release_season  \n",
       "1767          autumn  \n",
       "1650          winter  \n",
       "1464          autumn  \n",
       "\n",
       "[3 rows x 21 columns]"
      ]
     },
     "execution_count": 7,
     "metadata": {},
     "output_type": "execute_result"
    }
   ],
   "source": [
    "# Создадим словарь для ответов\n",
    "answers = {}\n",
    "\n",
    "# Рассчитаем прибыль\n",
    "data['profit'] = data.revenue - data.budget\n",
    "\n",
    "# Переведем перечень жанров из строки в список\n",
    "data['list_genres']=data.genres.apply(lambda x:x.split('|'))\n",
    "\n",
    "# Переведем перечень режиссеров из строки в список\n",
    "data['list_director']=data.director.apply(lambda x:x.split('|'))\n",
    "\n",
    "# Переведем перечень актеров из строки в список\n",
    "data['list_cast']=data.cast.apply(lambda x:x.split('|'))\n",
    "\n",
    "# Переведем перечень компаний из строки в список\n",
    "data['list_production_companies']=data.production_companies.apply(lambda x:x.split('|'))\n",
    "\n",
    "# Добавим месяц релиза\n",
    "data['release_month'] = pd.to_datetime(data.release_date, format='%m/%d/%Y').dt.month\n",
    "\n",
    "# Добавим время года релиза\n",
    "SEASONS = {1: 'winter', 2: 'winter', 3: 'spring', 4: 'spring', 5: 'spring', 6: 'summer',\n",
    "           7: 'summer', 8: 'summer', 9: 'autumn', 10: 'autumn', 11: 'autumn', 12: 'winter'}\n",
    "data['release_season'] = data['release_month'].replace(SEASONS)\n",
    "\n",
    "# Посмотрим на 3 случайные записи\n",
    "data.sample(3)"
   ]
  },
  {
   "cell_type": "markdown",
   "metadata": {
    "colab_type": "text",
    "id": "YxZaH-nPVp-L"
   },
   "source": [
    "# 1. У какого фильма из списка самый большой бюджет?"
   ]
  },
  {
   "cell_type": "markdown",
   "metadata": {
    "colab_type": "text",
    "id": "Nd-G5gX6Vp-M"
   },
   "source": [
    "Использовать варианты ответов в коде решения запрещено.    \n",
    "Вы думаете и в жизни у вас будут варианты ответов?)"
   ]
  },
  {
   "cell_type": "code",
   "execution_count": 8,
   "metadata": {
    "colab": {},
    "colab_type": "code",
    "id": "dZwb3m28Vp-S"
   },
   "outputs": [
    {
     "data": {
      "text/plain": [
       "'Pirates of the Caribbean: On Stranger Tides'"
      ]
     },
     "execution_count": 8,
     "metadata": {},
     "output_type": "execute_result"
    }
   ],
   "source": [
    "answers[1] = data[data.budget==data.budget.max()].original_title.item()\n",
    "answers[1]"
   ]
  },
  {
   "cell_type": "markdown",
   "metadata": {
    "colab_type": "text",
    "id": "K7L3nbRXVp-X"
   },
   "source": [
    "ВАРИАНТ 2"
   ]
  },
  {
   "cell_type": "code",
   "execution_count": 9,
   "metadata": {
    "colab": {},
    "colab_type": "code",
    "id": "OGaoQI7rVp-X"
   },
   "outputs": [
    {
     "data": {
      "text/plain": [
       "'Pirates of the Caribbean: On Stranger Tides'"
      ]
     },
     "execution_count": 9,
     "metadata": {},
     "output_type": "execute_result"
    }
   ],
   "source": [
    "data.sort_values(by='budget', ascending=False)[['original_title', 'budget']].original_title.iloc[0]"
   ]
  },
  {
   "cell_type": "code",
   "execution_count": 10,
   "metadata": {
    "colab": {},
    "colab_type": "code",
    "id": "OGaoQI7rVp-X"
   },
   "outputs": [
    {
     "data": {
      "text/html": [
       "<div>\n",
       "<style scoped>\n",
       "    .dataframe tbody tr th:only-of-type {\n",
       "        vertical-align: middle;\n",
       "    }\n",
       "\n",
       "    .dataframe tbody tr th {\n",
       "        vertical-align: top;\n",
       "    }\n",
       "\n",
       "    .dataframe thead th {\n",
       "        text-align: right;\n",
       "    }\n",
       "</style>\n",
       "<table border=\"1\" class=\"dataframe\">\n",
       "  <thead>\n",
       "    <tr style=\"text-align: right;\">\n",
       "      <th></th>\n",
       "      <th>original_title</th>\n",
       "      <th>budget</th>\n",
       "    </tr>\n",
       "  </thead>\n",
       "  <tbody>\n",
       "    <tr>\n",
       "      <th>723</th>\n",
       "      <td>Pirates of the Caribbean: On Stranger Tides</td>\n",
       "      <td>380000000</td>\n",
       "    </tr>\n",
       "    <tr>\n",
       "      <th>1669</th>\n",
       "      <td>Pirates of the Caribbean: At World's End</td>\n",
       "      <td>300000000</td>\n",
       "    </tr>\n",
       "    <tr>\n",
       "      <th>14</th>\n",
       "      <td>Avengers: Age of Ultron</td>\n",
       "      <td>280000000</td>\n",
       "    </tr>\n",
       "    <tr>\n",
       "      <th>1014</th>\n",
       "      <td>John Carter</td>\n",
       "      <td>260000000</td>\n",
       "    </tr>\n",
       "    <tr>\n",
       "      <th>380</th>\n",
       "      <td>Tangled</td>\n",
       "      <td>260000000</td>\n",
       "    </tr>\n",
       "  </tbody>\n",
       "</table>\n",
       "</div>"
      ],
      "text/plain": [
       "                                   original_title     budget\n",
       "723   Pirates of the Caribbean: On Stranger Tides  380000000\n",
       "1669     Pirates of the Caribbean: At World's End  300000000\n",
       "14                        Avengers: Age of Ultron  280000000\n",
       "1014                                  John Carter  260000000\n",
       "380                                       Tangled  260000000"
      ]
     },
     "execution_count": 10,
     "metadata": {},
     "output_type": "execute_result"
    }
   ],
   "source": [
    "# Посмотрим топ5 фильмов с максимальным бюджетом\n",
    "data.sort_values(by='budget', ascending=False)[['original_title', 'budget']].head(5)"
   ]
  },
  {
   "cell_type": "markdown",
   "metadata": {
    "colab_type": "text",
    "id": "FNRbbI3vVp-c"
   },
   "source": [
    "# 2. Какой из фильмов самый длительный (в минутах)?"
   ]
  },
  {
   "cell_type": "code",
   "execution_count": 11,
   "metadata": {
    "colab": {},
    "colab_type": "code",
    "id": "ot-VX2XrVp-g"
   },
   "outputs": [
    {
     "data": {
      "text/plain": [
       "'Gods and Generals'"
      ]
     },
     "execution_count": 11,
     "metadata": {},
     "output_type": "execute_result"
    }
   ],
   "source": [
    "answers[2] = data[data.runtime==data.runtime.max()].original_title.item()\n",
    "answers[2]"
   ]
  },
  {
   "cell_type": "code",
   "execution_count": 12,
   "metadata": {
    "colab": {},
    "colab_type": "code",
    "id": "ot-VX2XrVp-g"
   },
   "outputs": [
    {
     "data": {
      "text/html": [
       "<div>\n",
       "<style scoped>\n",
       "    .dataframe tbody tr th:only-of-type {\n",
       "        vertical-align: middle;\n",
       "    }\n",
       "\n",
       "    .dataframe tbody tr th {\n",
       "        vertical-align: top;\n",
       "    }\n",
       "\n",
       "    .dataframe thead th {\n",
       "        text-align: right;\n",
       "    }\n",
       "</style>\n",
       "<table border=\"1\" class=\"dataframe\">\n",
       "  <thead>\n",
       "    <tr style=\"text-align: right;\">\n",
       "      <th></th>\n",
       "      <th>original_title</th>\n",
       "      <th>runtime</th>\n",
       "    </tr>\n",
       "  </thead>\n",
       "  <tbody>\n",
       "    <tr>\n",
       "      <th>1157</th>\n",
       "      <td>Gods and Generals</td>\n",
       "      <td>214</td>\n",
       "    </tr>\n",
       "    <tr>\n",
       "      <th>1081</th>\n",
       "      <td>The Lord of the Rings: The Return of the King</td>\n",
       "      <td>201</td>\n",
       "    </tr>\n",
       "    <tr>\n",
       "      <th>1736</th>\n",
       "      <td>Grindhouse</td>\n",
       "      <td>191</td>\n",
       "    </tr>\n",
       "    <tr>\n",
       "      <th>1336</th>\n",
       "      <td>King Kong</td>\n",
       "      <td>187</td>\n",
       "    </tr>\n",
       "    <tr>\n",
       "      <th>504</th>\n",
       "      <td>Pearl Harbor</td>\n",
       "      <td>183</td>\n",
       "    </tr>\n",
       "  </tbody>\n",
       "</table>\n",
       "</div>"
      ],
      "text/plain": [
       "                                     original_title  runtime\n",
       "1157                              Gods and Generals      214\n",
       "1081  The Lord of the Rings: The Return of the King      201\n",
       "1736                                     Grindhouse      191\n",
       "1336                                      King Kong      187\n",
       "504                                    Pearl Harbor      183"
      ]
     },
     "execution_count": 12,
     "metadata": {},
     "output_type": "execute_result"
    }
   ],
   "source": [
    "# Посмотрим топ5 самых длительных фильмов\n",
    "data.sort_values(by='runtime', ascending=False)[['original_title', 'runtime']].head(5)"
   ]
  },
  {
   "cell_type": "markdown",
   "metadata": {
    "colab_type": "text",
    "id": "bapLlpW8Vp-k"
   },
   "source": [
    "# 3. Какой из фильмов самый короткий (в минутах)?"
   ]
  },
  {
   "cell_type": "code",
   "execution_count": 13,
   "metadata": {
    "colab": {},
    "colab_type": "code",
    "id": "YBxaSHuAVp-l"
   },
   "outputs": [
    {
     "data": {
      "text/plain": [
       "'Winnie the Pooh'"
      ]
     },
     "execution_count": 13,
     "metadata": {},
     "output_type": "execute_result"
    }
   ],
   "source": [
    "answers[3] = data[data.runtime==data.runtime.min()].original_title.item()\n",
    "answers[3]"
   ]
  },
  {
   "cell_type": "code",
   "execution_count": 14,
   "metadata": {
    "colab": {},
    "colab_type": "code",
    "id": "YBxaSHuAVp-l"
   },
   "outputs": [
    {
     "data": {
      "text/html": [
       "<div>\n",
       "<style scoped>\n",
       "    .dataframe tbody tr th:only-of-type {\n",
       "        vertical-align: middle;\n",
       "    }\n",
       "\n",
       "    .dataframe tbody tr th {\n",
       "        vertical-align: top;\n",
       "    }\n",
       "\n",
       "    .dataframe thead th {\n",
       "        text-align: right;\n",
       "    }\n",
       "</style>\n",
       "<table border=\"1\" class=\"dataframe\">\n",
       "  <thead>\n",
       "    <tr style=\"text-align: right;\">\n",
       "      <th></th>\n",
       "      <th>original_title</th>\n",
       "      <th>runtime</th>\n",
       "    </tr>\n",
       "  </thead>\n",
       "  <tbody>\n",
       "    <tr>\n",
       "      <th>768</th>\n",
       "      <td>Winnie the Pooh</td>\n",
       "      <td>63</td>\n",
       "    </tr>\n",
       "    <tr>\n",
       "      <th>930</th>\n",
       "      <td>Return to Never Land</td>\n",
       "      <td>72</td>\n",
       "    </tr>\n",
       "    <tr>\n",
       "      <th>1097</th>\n",
       "      <td>The Jungle Book 2</td>\n",
       "      <td>72</td>\n",
       "    </tr>\n",
       "    <tr>\n",
       "      <th>1408</th>\n",
       "      <td>Valiant</td>\n",
       "      <td>76</td>\n",
       "    </tr>\n",
       "    <tr>\n",
       "      <th>1626</th>\n",
       "      <td>Home on the Range</td>\n",
       "      <td>76</td>\n",
       "    </tr>\n",
       "  </tbody>\n",
       "</table>\n",
       "</div>"
      ],
      "text/plain": [
       "            original_title  runtime\n",
       "768        Winnie the Pooh       63\n",
       "930   Return to Never Land       72\n",
       "1097     The Jungle Book 2       72\n",
       "1408               Valiant       76\n",
       "1626     Home on the Range       76"
      ]
     },
     "execution_count": 14,
     "metadata": {},
     "output_type": "execute_result"
    }
   ],
   "source": [
    "# Посмотрим топ5 самых коротких по дительности фильмов\n",
    "data.sort_values(by='runtime')[['original_title', 'runtime']].head(5)"
   ]
  },
  {
   "cell_type": "markdown",
   "metadata": {
    "colab_type": "text",
    "id": "TfQbxbfNVp-p"
   },
   "source": [
    "# 4. Какова средняя длительность фильмов?"
   ]
  },
  {
   "cell_type": "code",
   "execution_count": 15,
   "metadata": {
    "colab": {},
    "colab_type": "code",
    "id": "5K6dKZYVVp-q"
   },
   "outputs": [
    {
     "data": {
      "text/plain": [
       "110"
      ]
     },
     "execution_count": 15,
     "metadata": {},
     "output_type": "execute_result"
    }
   ],
   "source": [
    "answers[4] = round(data.runtime.mean())\n",
    "answers[4]"
   ]
  },
  {
   "cell_type": "markdown",
   "metadata": {
    "colab_type": "text",
    "id": "r5TvbnT_Vp-u"
   },
   "source": [
    "# 5. Каково медианное значение длительности фильмов? "
   ]
  },
  {
   "cell_type": "code",
   "execution_count": 16,
   "metadata": {
    "colab": {},
    "colab_type": "code",
    "id": "iBROplKnVp-v"
   },
   "outputs": [
    {
     "data": {
      "text/plain": [
       "107.0"
      ]
     },
     "execution_count": 16,
     "metadata": {},
     "output_type": "execute_result"
    }
   ],
   "source": [
    "answers[5] = data.runtime.median()\n",
    "answers[5]"
   ]
  },
  {
   "cell_type": "markdown",
   "metadata": {
    "colab_type": "text",
    "id": "39P-deDSVp-y"
   },
   "source": [
    "# 6. Какой самый прибыльный фильм?\n",
    "#### Внимание! Здесь и далее под «прибылью» или «убытками» понимается разность между сборами и бюджетом фильма. (прибыль = сборы - бюджет) в нашем датасете это будет (profit = revenue - budget) "
   ]
  },
  {
   "cell_type": "code",
   "execution_count": 17,
   "metadata": {
    "colab": {},
    "colab_type": "code",
    "id": "UYZh4T9WVp-y"
   },
   "outputs": [
    {
     "data": {
      "text/plain": [
       "'Avatar'"
      ]
     },
     "execution_count": 17,
     "metadata": {},
     "output_type": "execute_result"
    }
   ],
   "source": [
    "# Код получения столбца profit вынесен в Предобработку\n",
    "answers[6] = data[data.profit==data.profit.max()].original_title.item()\n",
    "answers[6]"
   ]
  },
  {
   "cell_type": "code",
   "execution_count": 18,
   "metadata": {
    "colab": {},
    "colab_type": "code",
    "id": "UYZh4T9WVp-y"
   },
   "outputs": [
    {
     "data": {
      "text/html": [
       "<div>\n",
       "<style scoped>\n",
       "    .dataframe tbody tr th:only-of-type {\n",
       "        vertical-align: middle;\n",
       "    }\n",
       "\n",
       "    .dataframe tbody tr th {\n",
       "        vertical-align: top;\n",
       "    }\n",
       "\n",
       "    .dataframe thead th {\n",
       "        text-align: right;\n",
       "    }\n",
       "</style>\n",
       "<table border=\"1\" class=\"dataframe\">\n",
       "  <thead>\n",
       "    <tr style=\"text-align: right;\">\n",
       "      <th></th>\n",
       "      <th>original_title</th>\n",
       "      <th>profit</th>\n",
       "    </tr>\n",
       "  </thead>\n",
       "  <tbody>\n",
       "    <tr>\n",
       "      <th>239</th>\n",
       "      <td>Avatar</td>\n",
       "      <td>2544505847</td>\n",
       "    </tr>\n",
       "    <tr>\n",
       "      <th>3</th>\n",
       "      <td>Star Wars: The Force Awakens</td>\n",
       "      <td>1868178225</td>\n",
       "    </tr>\n",
       "    <tr>\n",
       "      <th>0</th>\n",
       "      <td>Jurassic World</td>\n",
       "      <td>1363528810</td>\n",
       "    </tr>\n",
       "    <tr>\n",
       "      <th>4</th>\n",
       "      <td>Furious 7</td>\n",
       "      <td>1316249360</td>\n",
       "    </tr>\n",
       "    <tr>\n",
       "      <th>970</th>\n",
       "      <td>The Avengers</td>\n",
       "      <td>1299557910</td>\n",
       "    </tr>\n",
       "  </tbody>\n",
       "</table>\n",
       "</div>"
      ],
      "text/plain": [
       "                   original_title      profit\n",
       "239                        Avatar  2544505847\n",
       "3    Star Wars: The Force Awakens  1868178225\n",
       "0                  Jurassic World  1363528810\n",
       "4                       Furious 7  1316249360\n",
       "970                  The Avengers  1299557910"
      ]
     },
     "execution_count": 18,
     "metadata": {},
     "output_type": "execute_result"
    }
   ],
   "source": [
    "# Посмотрим топ5 самых прибыльных фильмов\n",
    "data.sort_values(by='profit', ascending=False)[['original_title', 'profit']].head(5)"
   ]
  },
  {
   "cell_type": "markdown",
   "metadata": {
    "colab_type": "text",
    "id": "M99JmIX4Vp-2"
   },
   "source": [
    "# 7. Какой фильм самый убыточный? "
   ]
  },
  {
   "cell_type": "code",
   "execution_count": 19,
   "metadata": {
    "colab": {},
    "colab_type": "code",
    "id": "w-D2m4XPVp-3"
   },
   "outputs": [
    {
     "data": {
      "text/plain": [
       "'The Lone Ranger'"
      ]
     },
     "execution_count": 19,
     "metadata": {},
     "output_type": "execute_result"
    }
   ],
   "source": [
    "answers[7] = data[data.profit==data.profit.min()].original_title.item()\n",
    "answers[7]"
   ]
  },
  {
   "cell_type": "code",
   "execution_count": 20,
   "metadata": {
    "colab": {},
    "colab_type": "code",
    "id": "w-D2m4XPVp-3"
   },
   "outputs": [
    {
     "data": {
      "text/html": [
       "<div>\n",
       "<style scoped>\n",
       "    .dataframe tbody tr th:only-of-type {\n",
       "        vertical-align: middle;\n",
       "    }\n",
       "\n",
       "    .dataframe tbody tr th {\n",
       "        vertical-align: top;\n",
       "    }\n",
       "\n",
       "    .dataframe thead th {\n",
       "        text-align: right;\n",
       "    }\n",
       "</style>\n",
       "<table border=\"1\" class=\"dataframe\">\n",
       "  <thead>\n",
       "    <tr style=\"text-align: right;\">\n",
       "      <th></th>\n",
       "      <th>original_title</th>\n",
       "      <th>profit</th>\n",
       "    </tr>\n",
       "  </thead>\n",
       "  <tbody>\n",
       "    <tr>\n",
       "      <th>1245</th>\n",
       "      <td>The Lone Ranger</td>\n",
       "      <td>-165710090</td>\n",
       "    </tr>\n",
       "    <tr>\n",
       "      <th>1616</th>\n",
       "      <td>The Alamo</td>\n",
       "      <td>-119180039</td>\n",
       "    </tr>\n",
       "    <tr>\n",
       "      <th>809</th>\n",
       "      <td>Mars Needs Moms</td>\n",
       "      <td>-111007242</td>\n",
       "    </tr>\n",
       "    <tr>\n",
       "      <th>958</th>\n",
       "      <td>The Adventures of Pluto Nash</td>\n",
       "      <td>-92896027</td>\n",
       "    </tr>\n",
       "    <tr>\n",
       "      <th>1464</th>\n",
       "      <td>Flushed Away</td>\n",
       "      <td>-84540684</td>\n",
       "    </tr>\n",
       "  </tbody>\n",
       "</table>\n",
       "</div>"
      ],
      "text/plain": [
       "                    original_title     profit\n",
       "1245               The Lone Ranger -165710090\n",
       "1616                     The Alamo -119180039\n",
       "809                Mars Needs Moms -111007242\n",
       "958   The Adventures of Pluto Nash  -92896027\n",
       "1464                  Flushed Away  -84540684"
      ]
     },
     "execution_count": 20,
     "metadata": {},
     "output_type": "execute_result"
    }
   ],
   "source": [
    "# Посмотрим топ3 самых убыточных фильмов\n",
    "data.sort_values(by='profit')[['original_title', 'profit']].head(5)"
   ]
  },
  {
   "cell_type": "markdown",
   "metadata": {
    "colab_type": "text",
    "id": "wEOM5ERVVp-6"
   },
   "source": [
    "# 8. У скольких фильмов из датасета объем сборов оказался выше бюджета?"
   ]
  },
  {
   "cell_type": "code",
   "execution_count": 21,
   "metadata": {
    "colab": {},
    "colab_type": "code",
    "id": "y00_7HD6Vp-7"
   },
   "outputs": [
    {
     "data": {
      "text/plain": [
       "1478"
      ]
     },
     "execution_count": 21,
     "metadata": {},
     "output_type": "execute_result"
    }
   ],
   "source": [
    "answers[8] = sum(data.profit>0)\n",
    "answers[8]"
   ]
  },
  {
   "cell_type": "markdown",
   "metadata": {
    "colab_type": "text",
    "id": "xhpspA9KVp_A"
   },
   "source": [
    "# 9. Какой фильм оказался самым кассовым в 2008 году?"
   ]
  },
  {
   "cell_type": "code",
   "execution_count": 22,
   "metadata": {
    "colab": {},
    "colab_type": "code",
    "id": "MoUyQr9RVp_B"
   },
   "outputs": [
    {
     "data": {
      "text/plain": [
       "'The Dark Knight'"
      ]
     },
     "execution_count": 22,
     "metadata": {},
     "output_type": "execute_result"
    }
   ],
   "source": [
    "data_select = data[data.release_year==2008]\n",
    "answers[9] = data_select[data_select.revenue==data_select.revenue.max()].original_title.item()\n",
    "answers[9]"
   ]
  },
  {
   "cell_type": "code",
   "execution_count": 23,
   "metadata": {
    "colab": {},
    "colab_type": "code",
    "id": "MoUyQr9RVp_B"
   },
   "outputs": [
    {
     "data": {
      "text/html": [
       "<div>\n",
       "<style scoped>\n",
       "    .dataframe tbody tr th:only-of-type {\n",
       "        vertical-align: middle;\n",
       "    }\n",
       "\n",
       "    .dataframe tbody tr th {\n",
       "        vertical-align: top;\n",
       "    }\n",
       "\n",
       "    .dataframe thead th {\n",
       "        text-align: right;\n",
       "    }\n",
       "</style>\n",
       "<table border=\"1\" class=\"dataframe\">\n",
       "  <thead>\n",
       "    <tr style=\"text-align: right;\">\n",
       "      <th></th>\n",
       "      <th>release_year</th>\n",
       "      <th>original_title</th>\n",
       "      <th>revenue</th>\n",
       "    </tr>\n",
       "  </thead>\n",
       "  <tbody>\n",
       "    <tr>\n",
       "      <th>3</th>\n",
       "      <td>2015</td>\n",
       "      <td>Star Wars: The Force Awakens</td>\n",
       "      <td>2068178225</td>\n",
       "    </tr>\n",
       "    <tr>\n",
       "      <th>123</th>\n",
       "      <td>2014</td>\n",
       "      <td>The Hobbit: The Battle of the Five Armies</td>\n",
       "      <td>955119788</td>\n",
       "    </tr>\n",
       "    <tr>\n",
       "      <th>1177</th>\n",
       "      <td>2013</td>\n",
       "      <td>Frozen</td>\n",
       "      <td>1274219009</td>\n",
       "    </tr>\n",
       "    <tr>\n",
       "      <th>970</th>\n",
       "      <td>2012</td>\n",
       "      <td>The Avengers</td>\n",
       "      <td>1519557910</td>\n",
       "    </tr>\n",
       "    <tr>\n",
       "      <th>722</th>\n",
       "      <td>2011</td>\n",
       "      <td>Harry Potter and the Deathly Hallows: Part 2</td>\n",
       "      <td>1327817822</td>\n",
       "    </tr>\n",
       "    <tr>\n",
       "      <th>381</th>\n",
       "      <td>2010</td>\n",
       "      <td>Toy Story 3</td>\n",
       "      <td>1063171911</td>\n",
       "    </tr>\n",
       "    <tr>\n",
       "      <th>239</th>\n",
       "      <td>2009</td>\n",
       "      <td>Avatar</td>\n",
       "      <td>2781505847</td>\n",
       "    </tr>\n",
       "    <tr>\n",
       "      <th>599</th>\n",
       "      <td>2008</td>\n",
       "      <td>The Dark Knight</td>\n",
       "      <td>1001921825</td>\n",
       "    </tr>\n",
       "    <tr>\n",
       "      <th>1669</th>\n",
       "      <td>2007</td>\n",
       "      <td>Pirates of the Caribbean: At World's End</td>\n",
       "      <td>961000000</td>\n",
       "    </tr>\n",
       "    <tr>\n",
       "      <th>1434</th>\n",
       "      <td>2006</td>\n",
       "      <td>Pirates of the Caribbean: Dead Man's Chest</td>\n",
       "      <td>1065659812</td>\n",
       "    </tr>\n",
       "  </tbody>\n",
       "</table>\n",
       "</div>"
      ],
      "text/plain": [
       "      release_year                                original_title     revenue\n",
       "3             2015                  Star Wars: The Force Awakens  2068178225\n",
       "123           2014     The Hobbit: The Battle of the Five Armies   955119788\n",
       "1177          2013                                        Frozen  1274219009\n",
       "970           2012                                  The Avengers  1519557910\n",
       "722           2011  Harry Potter and the Deathly Hallows: Part 2  1327817822\n",
       "381           2010                                   Toy Story 3  1063171911\n",
       "239           2009                                        Avatar  2781505847\n",
       "599           2008                               The Dark Knight  1001921825\n",
       "1669          2007      Pirates of the Caribbean: At World's End   961000000\n",
       "1434          2006    Pirates of the Caribbean: Dead Man's Chest  1065659812"
      ]
     },
     "execution_count": 23,
     "metadata": {},
     "output_type": "execute_result"
    }
   ],
   "source": [
    "# Посмотрим самые кассовые фильмы за последние 10 лет\n",
    "data.sort_values(by='revenue', ascending=False) \\\n",
    "    .drop_duplicates(['release_year']) \\\n",
    "    .sort_values(by='release_year', ascending=False) \\\n",
    "    [['release_year', 'original_title', 'revenue']].head(10)"
   ]
  },
  {
   "cell_type": "markdown",
   "metadata": {
    "colab_type": "text",
    "id": "Zi4hDKidVp_F"
   },
   "source": [
    "# 10. Самый убыточный фильм за период с 2012 по 2014 г. (включительно)?\n"
   ]
  },
  {
   "cell_type": "code",
   "execution_count": 24,
   "metadata": {
    "colab": {},
    "colab_type": "code",
    "id": "XqyRmufJVp_F"
   },
   "outputs": [
    {
     "data": {
      "text/plain": [
       "'The Lone Ranger'"
      ]
     },
     "execution_count": 24,
     "metadata": {},
     "output_type": "execute_result"
    }
   ],
   "source": [
    "data_select = data[(data.release_year >= 2012)&(data.release_year <= 2014)]\n",
    "answers[10] = data_select[data_select.profit==data_select.profit.min()].original_title.item()\n",
    "answers[10]"
   ]
  },
  {
   "cell_type": "code",
   "execution_count": 25,
   "metadata": {
    "colab": {},
    "colab_type": "code",
    "id": "XqyRmufJVp_F"
   },
   "outputs": [
    {
     "data": {
      "text/html": [
       "<div>\n",
       "<style scoped>\n",
       "    .dataframe tbody tr th:only-of-type {\n",
       "        vertical-align: middle;\n",
       "    }\n",
       "\n",
       "    .dataframe tbody tr th {\n",
       "        vertical-align: top;\n",
       "    }\n",
       "\n",
       "    .dataframe thead th {\n",
       "        text-align: right;\n",
       "    }\n",
       "</style>\n",
       "<table border=\"1\" class=\"dataframe\">\n",
       "  <thead>\n",
       "    <tr style=\"text-align: right;\">\n",
       "      <th></th>\n",
       "      <th>release_year</th>\n",
       "      <th>original_title</th>\n",
       "      <th>profit</th>\n",
       "    </tr>\n",
       "  </thead>\n",
       "  <tbody>\n",
       "    <tr>\n",
       "      <th>53</th>\n",
       "      <td>2015</td>\n",
       "      <td>Blackhat</td>\n",
       "      <td>-52247060</td>\n",
       "    </tr>\n",
       "    <tr>\n",
       "      <th>144</th>\n",
       "      <td>2014</td>\n",
       "      <td>The Interview</td>\n",
       "      <td>-32694825</td>\n",
       "    </tr>\n",
       "    <tr>\n",
       "      <th>1245</th>\n",
       "      <td>2013</td>\n",
       "      <td>The Lone Ranger</td>\n",
       "      <td>-165710090</td>\n",
       "    </tr>\n",
       "    <tr>\n",
       "      <th>1007</th>\n",
       "      <td>2012</td>\n",
       "      <td>Upside Down</td>\n",
       "      <td>-51893525</td>\n",
       "    </tr>\n",
       "    <tr>\n",
       "      <th>809</th>\n",
       "      <td>2011</td>\n",
       "      <td>Mars Needs Moms</td>\n",
       "      <td>-111007242</td>\n",
       "    </tr>\n",
       "    <tr>\n",
       "      <th>468</th>\n",
       "      <td>2010</td>\n",
       "      <td>How Do You Know</td>\n",
       "      <td>-71331093</td>\n",
       "    </tr>\n",
       "    <tr>\n",
       "      <th>283</th>\n",
       "      <td>2009</td>\n",
       "      <td>Mr. Nobody</td>\n",
       "      <td>-43452791</td>\n",
       "    </tr>\n",
       "    <tr>\n",
       "      <th>636</th>\n",
       "      <td>2008</td>\n",
       "      <td>Australia</td>\n",
       "      <td>-80445998</td>\n",
       "    </tr>\n",
       "    <tr>\n",
       "      <th>1718</th>\n",
       "      <td>2007</td>\n",
       "      <td>Awake</td>\n",
       "      <td>-71626175</td>\n",
       "    </tr>\n",
       "    <tr>\n",
       "      <th>1464</th>\n",
       "      <td>2006</td>\n",
       "      <td>Flushed Away</td>\n",
       "      <td>-84540684</td>\n",
       "    </tr>\n",
       "  </tbody>\n",
       "</table>\n",
       "</div>"
      ],
      "text/plain": [
       "      release_year   original_title     profit\n",
       "53            2015         Blackhat  -52247060\n",
       "144           2014    The Interview  -32694825\n",
       "1245          2013  The Lone Ranger -165710090\n",
       "1007          2012      Upside Down  -51893525\n",
       "809           2011  Mars Needs Moms -111007242\n",
       "468           2010  How Do You Know  -71331093\n",
       "283           2009       Mr. Nobody  -43452791\n",
       "636           2008        Australia  -80445998\n",
       "1718          2007            Awake  -71626175\n",
       "1464          2006     Flushed Away  -84540684"
      ]
     },
     "execution_count": 25,
     "metadata": {},
     "output_type": "execute_result"
    }
   ],
   "source": [
    "# Посмотрим самые убыточные фильмы за последние 10 лет\n",
    "data.sort_values(by='profit') \\\n",
    "    .drop_duplicates(['release_year']) \\\n",
    "    .sort_values(by='release_year', ascending=False) \\\n",
    "    [['release_year', 'original_title', 'profit']].head(10)"
   ]
  },
  {
   "cell_type": "markdown",
   "metadata": {
    "colab_type": "text",
    "id": "EA7Sa9dkVp_I"
   },
   "source": [
    "# 11. Какого жанра фильмов больше всего?"
   ]
  },
  {
   "cell_type": "code",
   "execution_count": 26,
   "metadata": {
    "colab": {},
    "colab_type": "code",
    "id": "zsJAwJ8QVp_J"
   },
   "outputs": [
    {
     "data": {
      "text/plain": [
       "'Drama'"
      ]
     },
     "execution_count": 26,
     "metadata": {},
     "output_type": "execute_result"
    }
   ],
   "source": [
    "answers[11] = pd.Series(data.genres.str.cat(sep='|').split('|')).value_counts().index[0]\n",
    "answers[11]"
   ]
  },
  {
   "cell_type": "markdown",
   "metadata": {
    "colab_type": "text",
    "id": "Ax6g2C8SVp_M"
   },
   "source": [
    "ВАРИАНТ 2"
   ]
  },
  {
   "cell_type": "code",
   "execution_count": 27,
   "metadata": {
    "colab": {},
    "colab_type": "code",
    "id": "otO3SbrSVp_N"
   },
   "outputs": [
    {
     "data": {
      "text/plain": [
       "[('Drama', 782),\n",
       " ('Comedy', 683),\n",
       " ('Thriller', 596),\n",
       " ('Action', 582),\n",
       " ('Adventure', 415),\n",
       " ('Crime', 315),\n",
       " ('Romance', 308),\n",
       " ('Family', 260),\n",
       " ('Science Fiction', 248),\n",
       " ('Fantasy', 222),\n",
       " ('Horror', 176),\n",
       " ('Mystery', 168),\n",
       " ('Animation', 139),\n",
       " ('Music', 64),\n",
       " ('History', 62),\n",
       " ('War', 58),\n",
       " ('Western', 19),\n",
       " ('Documentary', 8),\n",
       " ('Foreign', 2)]"
      ]
     },
     "execution_count": 27,
     "metadata": {},
     "output_type": "execute_result"
    }
   ],
   "source": [
    "Counter(data.genres.str.cat(sep='|').split('|')).most_common()"
   ]
  },
  {
   "cell_type": "markdown",
   "metadata": {
    "colab_type": "text",
    "id": "T9_bPWpkVp_Q"
   },
   "source": [
    "# 12. Фильмы какого жанра чаще всего становятся прибыльными? "
   ]
  },
  {
   "cell_type": "code",
   "execution_count": 28,
   "metadata": {
    "colab": {},
    "colab_type": "code",
    "id": "Tmt8MaK1Vp_R"
   },
   "outputs": [
    {
     "data": {
      "text/plain": [
       "'Drama'"
      ]
     },
     "execution_count": 28,
     "metadata": {},
     "output_type": "execute_result"
    }
   ],
   "source": [
    "answers[12] = data[data.profit>0].explode('list_genres').list_genres.value_counts().index[0]\n",
    "answers[12]"
   ]
  },
  {
   "cell_type": "code",
   "execution_count": 29,
   "metadata": {
    "colab": {},
    "colab_type": "code",
    "id": "Tmt8MaK1Vp_R"
   },
   "outputs": [
    {
     "data": {
      "text/plain": [
       "Drama              560\n",
       "Comedy             551\n",
       "Thriller           446\n",
       "Action             444\n",
       "Adventure          337\n",
       "Romance            242\n",
       "Crime              231\n",
       "Family             226\n",
       "Science Fiction    195\n",
       "Fantasy            188\n",
       "Horror             150\n",
       "Animation          120\n",
       "Mystery            119\n",
       "Music               47\n",
       "History             46\n",
       "War                 41\n",
       "Western             12\n",
       "Documentary          7\n",
       "Name: list_genres, dtype: int64"
      ]
     },
     "execution_count": 29,
     "metadata": {},
     "output_type": "execute_result"
    }
   ],
   "source": [
    "# Посмотрим количество прибыльных фильмов по жанрам\n",
    "data[data.profit>0].explode('list_genres').list_genres.value_counts()"
   ]
  },
  {
   "cell_type": "markdown",
   "metadata": {
    "colab_type": "text",
    "id": "0F23bgsDVp_U"
   },
   "source": [
    "# 13. У какого режиссера самые большие суммарные кассовые сбооры?"
   ]
  },
  {
   "cell_type": "code",
   "execution_count": 30,
   "metadata": {
    "colab": {},
    "colab_type": "code",
    "id": "K6Z3J8ygVp_X"
   },
   "outputs": [
    {
     "data": {
      "text/plain": [
       "'Peter Jackson'"
      ]
     },
     "execution_count": 30,
     "metadata": {},
     "output_type": "execute_result"
    }
   ],
   "source": [
    "answers[13] = data.explode('list_director').groupby('list_director').revenue.sum() \\\n",
    "    .sort_values(ascending=False) \\\n",
    "    .index[0]\n",
    "answers[13]\n",
    "\n",
    "# Примечание: когда у одного фильма несколько режисеров, выручка в полном размере добавляется каждому"
   ]
  },
  {
   "cell_type": "code",
   "execution_count": 31,
   "metadata": {
    "colab": {},
    "colab_type": "code",
    "id": "K6Z3J8ygVp_X"
   },
   "outputs": [
    {
     "data": {
      "text/plain": [
       "list_director\n",
       "Peter Jackson        6490593685\n",
       "Christopher Nolan    4167548502\n",
       "David Yates          4154295625\n",
       "Michael Bay          3886938960\n",
       "J.J. Abrams          3579169916\n",
       "                        ...    \n",
       "David MichÃ´d           2295423\n",
       "Steven Shainberg        2281089\n",
       "Paul Schrader           2062066\n",
       "Keanu Reeves            2054941\n",
       "Simon Hunter            2033165\n",
       "Name: revenue, Length: 997, dtype: int64"
      ]
     },
     "execution_count": 31,
     "metadata": {},
     "output_type": "execute_result"
    }
   ],
   "source": [
    "# Посмотрим список режисеров в порядке убывания выручки\n",
    "data.explode('list_director').groupby('list_director').revenue.sum().sort_values(ascending=False)"
   ]
  },
  {
   "cell_type": "markdown",
   "metadata": {
    "colab_type": "text",
    "id": "PsYC9FgRVp_a"
   },
   "source": [
    "# 14. Какой режисер снял больше всего фильмов в стиле Action?"
   ]
  },
  {
   "cell_type": "code",
   "execution_count": 32,
   "metadata": {
    "colab": {},
    "colab_type": "code",
    "id": "wd2M-wHeVp_b"
   },
   "outputs": [
    {
     "data": {
      "text/plain": [
       "'Robert Rodriguez'"
      ]
     },
     "execution_count": 32,
     "metadata": {},
     "output_type": "execute_result"
    }
   ],
   "source": [
    "answers[14] = data[data.genres.str.contains('Action')].explode('list_director').list_director.value_counts().index[0]\n",
    "answers[14]"
   ]
  },
  {
   "cell_type": "code",
   "execution_count": 33,
   "metadata": {
    "colab": {},
    "colab_type": "code",
    "id": "wd2M-wHeVp_b"
   },
   "outputs": [
    {
     "data": {
      "text/plain": [
       "Robert Rodriguez      9\n",
       "Michael Bay           7\n",
       "Paul W.S. Anderson    7\n",
       "Ridley Scott          6\n",
       "Antoine Fuqua         6\n",
       "                     ..\n",
       "Daniel Espinosa       1\n",
       "Mikael HÃ¥fstrÃ¶m     1\n",
       "Christian Duguay      1\n",
       "Allen Hughes          1\n",
       "Tamra Davis           1\n",
       "Name: list_director, Length: 364, dtype: int64"
      ]
     },
     "execution_count": 33,
     "metadata": {},
     "output_type": "execute_result"
    }
   ],
   "source": [
    "# Посмотрим список режисеров в порядке убывания количества фильмов в жанре Action\n",
    "data[data.genres.str.contains('Action')].explode('list_director').list_director.value_counts()"
   ]
  },
  {
   "cell_type": "markdown",
   "metadata": {
    "colab_type": "text",
    "id": "PQ0KciD7Vp_f"
   },
   "source": [
    "# 15. Фильмы с каким актером принесли самые высокие кассовые сборы в 2012 году? "
   ]
  },
  {
   "cell_type": "code",
   "execution_count": 34,
   "metadata": {
    "colab": {},
    "colab_type": "code",
    "id": "aga62oeKVp_g"
   },
   "outputs": [
    {
     "data": {
      "text/plain": [
       "'Chris Hemsworth'"
      ]
     },
     "execution_count": 34,
     "metadata": {},
     "output_type": "execute_result"
    }
   ],
   "source": [
    "answers[15] = data[data.release_year==2012].explode('list_cast').groupby('list_cast').revenue.sum() \\\n",
    "    .sort_values(ascending=False) \\\n",
    "    .index[0]\n",
    "answers[15]\n",
    "\n",
    "# Примечание: когда в одном фильме снимается несколько актеров, вся выручка добавляется каждому"
   ]
  },
  {
   "cell_type": "code",
   "execution_count": 35,
   "metadata": {
    "colab": {},
    "colab_type": "code",
    "id": "aga62oeKVp_g"
   },
   "outputs": [
    {
     "data": {
      "text/plain": [
       "list_cast\n",
       "Chris Hemsworth      2027450773\n",
       "Denis Leary          1629460639\n",
       "Anne Hathaway        1522851057\n",
       "Chris Evans          1519557910\n",
       "Robert Downey Jr.    1519557910\n",
       "                        ...    \n",
       "Jason Bateman           3428048\n",
       "Danny Huston            2106557\n",
       "Sami Gayle              2106557\n",
       "Josh Lucas              2106557\n",
       "Nicolas Cage            2106557\n",
       "Name: revenue, Length: 466, dtype: int64"
      ]
     },
     "execution_count": 35,
     "metadata": {},
     "output_type": "execute_result"
    }
   ],
   "source": [
    "# Посмотрим список актеров в порядке убывания кассовых сборов фильмов 2012 года с их участием\n",
    "data[data.release_year==2012].explode('list_cast').groupby('list_cast').revenue.sum().sort_values(ascending=False)"
   ]
  },
  {
   "cell_type": "markdown",
   "metadata": {
    "colab_type": "text",
    "id": "mWHyyL7QVp_j"
   },
   "source": [
    "# 16. Какой актер снялся в большем количестве высокобюджетных фильмов?"
   ]
  },
  {
   "cell_type": "code",
   "execution_count": 36,
   "metadata": {
    "colab": {},
    "colab_type": "code",
    "id": "qQtmHKTFVp_k"
   },
   "outputs": [
    {
     "data": {
      "text/plain": [
       "'Matt Damon'"
      ]
     },
     "execution_count": 36,
     "metadata": {},
     "output_type": "execute_result"
    }
   ],
   "source": [
    "answers[16] = data[data.budget>data.budget.mean()].explode('list_cast').list_cast.value_counts().index[0]\n",
    "answers[16]\n",
    "\n",
    "# Примечание: высокобюджетный - бюджет фильма выше среднего значения"
   ]
  },
  {
   "cell_type": "code",
   "execution_count": 37,
   "metadata": {
    "colab": {},
    "colab_type": "code",
    "id": "qQtmHKTFVp_k"
   },
   "outputs": [
    {
     "data": {
      "text/plain": [
       "Matt Damon          18\n",
       "Adam Sandler        17\n",
       "Angelina Jolie      16\n",
       "Eddie Murphy        15\n",
       "Tom Cruise          15\n",
       "                    ..\n",
       "Trevor Morgan        1\n",
       "Heather Locklear     1\n",
       "Rupert Evans         1\n",
       "Richard Gant         1\n",
       "Jordan Nagai         1\n",
       "Name: list_cast, Length: 1505, dtype: int64"
      ]
     },
     "execution_count": 37,
     "metadata": {},
     "output_type": "execute_result"
    }
   ],
   "source": [
    "# Посмотрим список актеров в порядке убывания количества высокобююджетных фильмов с их участием\n",
    "data[data.budget>data.budget.mean()].explode('list_cast').list_cast.value_counts()"
   ]
  },
  {
   "cell_type": "markdown",
   "metadata": {
    "colab_type": "text",
    "id": "NIh6AaW5Vp_n"
   },
   "source": [
    "# 17. В фильмах какого жанра больше всего снимался Nicolas Cage? "
   ]
  },
  {
   "cell_type": "code",
   "execution_count": 38,
   "metadata": {
    "colab": {},
    "colab_type": "code",
    "id": "H74SJDIBVp_n"
   },
   "outputs": [
    {
     "data": {
      "text/plain": [
       "'Action'"
      ]
     },
     "execution_count": 38,
     "metadata": {},
     "output_type": "execute_result"
    }
   ],
   "source": [
    "answers[17] = data[data.cast.str.contains('Nicolas Cage')].explode('list_genres').list_genres.value_counts().index[0]\n",
    "answers[17]"
   ]
  },
  {
   "cell_type": "markdown",
   "metadata": {
    "colab_type": "text",
    "id": "RqOmPRfWVp_q"
   },
   "source": [
    "# 18. Самый убыточный фильм от Paramount Pictures"
   ]
  },
  {
   "cell_type": "code",
   "execution_count": 39,
   "metadata": {
    "colab": {},
    "colab_type": "code",
    "id": "9E_B0Y96Vp_r"
   },
   "outputs": [
    {
     "data": {
      "text/plain": [
       "'K-19: The Widowmaker'"
      ]
     },
     "execution_count": 39,
     "metadata": {},
     "output_type": "execute_result"
    }
   ],
   "source": [
    "data_select = data[data.production_companies.str.contains('Paramount Pictures')]\n",
    "answers[18] = data_select[data_select.profit==data_select.profit.min()].original_title.item()\n",
    "answers[18]"
   ]
  },
  {
   "cell_type": "code",
   "execution_count": 40,
   "metadata": {
    "colab": {},
    "colab_type": "code",
    "id": "9E_B0Y96Vp_r"
   },
   "outputs": [
    {
     "data": {
      "text/html": [
       "<div>\n",
       "<style scoped>\n",
       "    .dataframe tbody tr th:only-of-type {\n",
       "        vertical-align: middle;\n",
       "    }\n",
       "\n",
       "    .dataframe tbody tr th {\n",
       "        vertical-align: top;\n",
       "    }\n",
       "\n",
       "    .dataframe thead th {\n",
       "        text-align: right;\n",
       "    }\n",
       "</style>\n",
       "<table border=\"1\" class=\"dataframe\">\n",
       "  <thead>\n",
       "    <tr style=\"text-align: right;\">\n",
       "      <th></th>\n",
       "      <th>original_title</th>\n",
       "      <th>profit</th>\n",
       "    </tr>\n",
       "  </thead>\n",
       "  <tbody>\n",
       "    <tr>\n",
       "      <th>925</th>\n",
       "      <td>K-19: The Widowmaker</td>\n",
       "      <td>-64831034</td>\n",
       "    </tr>\n",
       "    <tr>\n",
       "      <th>1123</th>\n",
       "      <td>Timeline</td>\n",
       "      <td>-60519261</td>\n",
       "    </tr>\n",
       "    <tr>\n",
       "      <th>1722</th>\n",
       "      <td>Next</td>\n",
       "      <td>-51788987</td>\n",
       "    </tr>\n",
       "    <tr>\n",
       "      <th>1623</th>\n",
       "      <td>Alfie</td>\n",
       "      <td>-46604061</td>\n",
       "    </tr>\n",
       "    <tr>\n",
       "      <th>1631</th>\n",
       "      <td>Twisted</td>\n",
       "      <td>-24805000</td>\n",
       "    </tr>\n",
       "    <tr>\n",
       "      <th>587</th>\n",
       "      <td>Domestic Disturbance</td>\n",
       "      <td>-20750706</td>\n",
       "    </tr>\n",
       "    <tr>\n",
       "      <th>667</th>\n",
       "      <td>The Love Guru</td>\n",
       "      <td>-20180936</td>\n",
       "    </tr>\n",
       "    <tr>\n",
       "      <th>1059</th>\n",
       "      <td>A Thousand Words</td>\n",
       "      <td>-17955723</td>\n",
       "    </tr>\n",
       "    <tr>\n",
       "      <th>436</th>\n",
       "      <td>The Fighter</td>\n",
       "      <td>-15809131</td>\n",
       "    </tr>\n",
       "    <tr>\n",
       "      <th>959</th>\n",
       "      <td>Abandon</td>\n",
       "      <td>-14280643</td>\n",
       "    </tr>\n",
       "  </tbody>\n",
       "</table>\n",
       "</div>"
      ],
      "text/plain": [
       "            original_title    profit\n",
       "925   K-19: The Widowmaker -64831034\n",
       "1123              Timeline -60519261\n",
       "1722                  Next -51788987\n",
       "1623                 Alfie -46604061\n",
       "1631               Twisted -24805000\n",
       "587   Domestic Disturbance -20750706\n",
       "667          The Love Guru -20180936\n",
       "1059      A Thousand Words -17955723\n",
       "436            The Fighter -15809131\n",
       "959                Abandon -14280643"
      ]
     },
     "execution_count": 40,
     "metadata": {},
     "output_type": "execute_result"
    }
   ],
   "source": [
    "# Посмотрим топ10 самых убыточных фильмов от Paramount Pictures\n",
    "data[data.production_companies.str.contains('Paramount Pictures')] \\\n",
    "    .sort_values(by=['profit'])[['original_title', 'profit']].head(10)"
   ]
  },
  {
   "cell_type": "markdown",
   "metadata": {
    "colab_type": "text",
    "id": "vS8Ur6ddVp_u"
   },
   "source": [
    "# 19. Какой год стал самым успешным по суммарным кассовым сборам?"
   ]
  },
  {
   "cell_type": "code",
   "execution_count": 41,
   "metadata": {
    "colab": {},
    "colab_type": "code",
    "id": "Dnbt4GdIVp_v"
   },
   "outputs": [
    {
     "data": {
      "text/plain": [
       "2015"
      ]
     },
     "execution_count": 41,
     "metadata": {},
     "output_type": "execute_result"
    }
   ],
   "source": [
    "answers[19] = data.groupby(by='release_year').revenue.sum().sort_values(ascending=False).index[0]\n",
    "answers[19]"
   ]
  },
  {
   "cell_type": "code",
   "execution_count": 42,
   "metadata": {
    "colab": {},
    "colab_type": "code",
    "id": "Dnbt4GdIVp_v"
   },
   "outputs": [
    {
     "data": {
      "text/plain": [
       "release_year\n",
       "2000    10664099805\n",
       "2001    13017764865\n",
       "2002    14136361487\n",
       "2003    14346123312\n",
       "2004    15663430720\n",
       "2005    15309425558\n",
       "2006    14775042320\n",
       "2007    18162406801\n",
       "2008    18252781990\n",
       "2009    20261791024\n",
       "2010    21071204961\n",
       "2011    22676791872\n",
       "2012    23079001687\n",
       "2013    23213799791\n",
       "2014    23405862953\n",
       "2015    25449202382\n",
       "Name: revenue, dtype: int64"
      ]
     },
     "execution_count": 42,
     "metadata": {},
     "output_type": "execute_result"
    }
   ],
   "source": [
    "# Посмотрим суммарные кассовые сборы по годам\n",
    "data.groupby(by='release_year').revenue.sum().sort_index()"
   ]
  },
  {
   "cell_type": "markdown",
   "metadata": {
    "colab_type": "text",
    "id": "JAzJh4QAVp_z"
   },
   "source": [
    "# 20. Какой самый прибыльный год для студии Warner Bros?"
   ]
  },
  {
   "cell_type": "code",
   "execution_count": 43,
   "metadata": {
    "colab": {},
    "colab_type": "code",
    "id": "wgVu02DEVp_0"
   },
   "outputs": [
    {
     "data": {
      "text/plain": [
       "2014"
      ]
     },
     "execution_count": 43,
     "metadata": {},
     "output_type": "execute_result"
    }
   ],
   "source": [
    "answers[20] = data[data.production_companies.str.contains('Warner Bros')] \\\n",
    "    .groupby(by='release_year').profit.sum().sort_values(ascending=False).index[0]\n",
    "answers[20]"
   ]
  },
  {
   "cell_type": "code",
   "execution_count": 44,
   "metadata": {
    "colab": {},
    "colab_type": "code",
    "id": "wgVu02DEVp_0"
   },
   "outputs": [
    {
     "data": {
      "text/plain": [
       "release_year\n",
       "2000     452631386\n",
       "2001    1343545668\n",
       "2002    1022709901\n",
       "2003    1855493377\n",
       "2004    1631933725\n",
       "2005    1551980298\n",
       "2006     620170743\n",
       "2007    2201675217\n",
       "2008    2134595031\n",
       "2009    1822454136\n",
       "2010    1974712985\n",
       "2011    1871393682\n",
       "2012    1258020056\n",
       "2013    1636453400\n",
       "2014    2295464519\n",
       "2015     870368348\n",
       "Name: profit, dtype: int64"
      ]
     },
     "execution_count": 44,
     "metadata": {},
     "output_type": "execute_result"
    }
   ],
   "source": [
    "# Посмотрим прибыль студии Warner Bros по годам\n",
    "data[data.production_companies.str.contains('Warner Bros')].groupby(by='release_year').profit.sum().sort_index()"
   ]
  },
  {
   "cell_type": "markdown",
   "metadata": {
    "colab_type": "text",
    "id": "8Im1S2HRVp_4"
   },
   "source": [
    "# 21. В каком месяце за все годы суммарно вышло больше всего фильмов?"
   ]
  },
  {
   "cell_type": "code",
   "execution_count": 45,
   "metadata": {
    "colab": {},
    "colab_type": "code",
    "id": "lev6TH7gVp_4"
   },
   "outputs": [
    {
     "data": {
      "text/plain": [
       "9"
      ]
     },
     "execution_count": 45,
     "metadata": {},
     "output_type": "execute_result"
    }
   ],
   "source": [
    "answers[21] = data.release_month.value_counts().index[0]\n",
    "answers[21]"
   ]
  },
  {
   "cell_type": "code",
   "execution_count": 46,
   "metadata": {
    "colab": {},
    "colab_type": "code",
    "id": "lev6TH7gVp_4"
   },
   "outputs": [
    {
     "data": {
      "text/plain": [
       "1     110\n",
       "2     135\n",
       "3     156\n",
       "4     149\n",
       "5     140\n",
       "6     147\n",
       "7     142\n",
       "8     161\n",
       "9     227\n",
       "10    186\n",
       "11    146\n",
       "12    190\n",
       "Name: release_month, dtype: int64"
      ]
     },
     "execution_count": 46,
     "metadata": {},
     "output_type": "execute_result"
    }
   ],
   "source": [
    "# Посмотрим сколько фильмов выходило в разные месяцы\n",
    "data.release_month.value_counts().sort_index()"
   ]
  },
  {
   "cell_type": "markdown",
   "metadata": {
    "colab_type": "text",
    "id": "uAJsZ_NeVp_7"
   },
   "source": [
    "# 22. Сколько суммарно вышло фильмов летом? (за июнь, июль, август)"
   ]
  },
  {
   "cell_type": "code",
   "execution_count": 47,
   "metadata": {
    "colab": {},
    "colab_type": "code",
    "id": "Aa-hEREoVp_8"
   },
   "outputs": [
    {
     "data": {
      "text/plain": [
       "450"
      ]
     },
     "execution_count": 47,
     "metadata": {},
     "output_type": "execute_result"
    }
   ],
   "source": [
    "answers[22] = sum(data.release_month.value_counts()[month] for month in [6,7,8])\n",
    "answers[22]"
   ]
  },
  {
   "cell_type": "code",
   "execution_count": 48,
   "metadata": {
    "colab": {},
    "colab_type": "code",
    "id": "Aa-hEREoVp_8"
   },
   "outputs": [
    {
     "data": {
      "text/plain": [
       "450"
      ]
     },
     "execution_count": 48,
     "metadata": {},
     "output_type": "execute_result"
    }
   ],
   "source": [
    "# Вариант 2, после добавления в предобработке поля season\n",
    "len(data[data.release_season=='summer'])"
   ]
  },
  {
   "cell_type": "markdown",
   "metadata": {
    "colab_type": "text",
    "id": "G94ppOY1VqAA"
   },
   "source": [
    "# 23. Для какого режиссера зима – самое продуктивное время года? "
   ]
  },
  {
   "cell_type": "code",
   "execution_count": 49,
   "metadata": {
    "colab": {},
    "colab_type": "code",
    "id": "RhNTsamuVqAB"
   },
   "outputs": [
    {
     "data": {
      "text/plain": [
       "'Peter Jackson'"
      ]
     },
     "execution_count": 49,
     "metadata": {},
     "output_type": "execute_result"
    }
   ],
   "source": [
    "answers[23] = data[data.release_season=='winter'].explode('list_director').list_director.value_counts().index[0]\n",
    "answers[23]"
   ]
  },
  {
   "cell_type": "markdown",
   "metadata": {
    "colab_type": "text",
    "id": "RBo0JVjVVqAF"
   },
   "source": [
    "# 24. Какая студия дает самые длинные названия своим фильмам по количеству символов?"
   ]
  },
  {
   "cell_type": "code",
   "execution_count": 50,
   "metadata": {
    "colab": {},
    "colab_type": "code",
    "id": "QRGS8L0iVqAG"
   },
   "outputs": [],
   "source": [
    "# Дважды ошибся в ответе на этот вопрос"
   ]
  },
  {
   "cell_type": "code",
   "execution_count": 51,
   "metadata": {
    "colab": {},
    "colab_type": "code",
    "id": "QRGS8L0iVqAG"
   },
   "outputs": [
    {
     "data": {
      "text/plain": [
       "'Universal Pictures'"
      ]
     },
     "execution_count": 51,
     "metadata": {},
     "output_type": "execute_result"
    }
   ],
   "source": [
    "# Сначала указал студию, выпустившую наибольшее количество фильмов с названиями длиннее, чем в среднем\n",
    "answers[24] = data[data.original_title.str.len()>data.original_title.str.len().mean()] \\\n",
    "    .explode('list_production_companies') \\\n",
    "    .list_production_companies.value_counts() \\\n",
    "    .index[0]\n",
    "answers[24]"
   ]
  },
  {
   "cell_type": "code",
   "execution_count": 52,
   "metadata": {
    "colab": {},
    "colab_type": "code",
    "id": "QRGS8L0iVqAG"
   },
   "outputs": [
    {
     "data": {
      "text/plain": [
       "'Warner Bros.'"
      ]
     },
     "execution_count": 52,
     "metadata": {},
     "output_type": "execute_result"
    }
   ],
   "source": [
    "# Во второй раз указал студию, названия фильмов которой суммарно длиннее, чем у других студий\n",
    "answers[24] = data[['original_title', 'list_production_companies']] \\\n",
    "    .assign(original_title_length = data.original_title.str.len()) \\\n",
    "    .explode('list_production_companies') \\\n",
    "    .groupby(by='list_production_companies').sum().original_title_length \\\n",
    "    .sort_values(ascending=False) \\\n",
    "    .index[0]\n",
    "answers[24]"
   ]
  },
  {
   "cell_type": "code",
   "execution_count": 53,
   "metadata": {
    "colab": {},
    "colab_type": "code",
    "id": "QRGS8L0iVqAG"
   },
   "outputs": [
    {
     "data": {
      "text/plain": [
       "'Four By Two Productions'"
      ]
     },
     "execution_count": 53,
     "metadata": {},
     "output_type": "execute_result"
    }
   ],
   "source": [
    "# Предполагаю, что надо было указать студию с максимальной средней длиной названий фильмов\n",
    "answers[24] = data[['original_title', 'list_production_companies']] \\\n",
    "    .assign(original_title_length = data.original_title.str.len()) \\\n",
    "    .explode('list_production_companies') \\\n",
    "    .groupby(by='list_production_companies').mean().original_title_length \\\n",
    "    .sort_values(ascending=False) \\\n",
    "    .index[0]\n",
    "answers[24]"
   ]
  },
  {
   "cell_type": "markdown",
   "metadata": {
    "colab_type": "text",
    "id": "9G0hbvR7VqAK"
   },
   "source": [
    "# 25. Описание фильмов какой студии в среднем самые длинные по количеству слов?"
   ]
  },
  {
   "cell_type": "code",
   "execution_count": 54,
   "metadata": {
    "colab": {},
    "colab_type": "code",
    "id": "Ge2GsLNxVqAK"
   },
   "outputs": [
    {
     "data": {
      "text/plain": [
       "'Midnight Picture Show'"
      ]
     },
     "execution_count": 54,
     "metadata": {},
     "output_type": "execute_result"
    }
   ],
   "source": [
    "answers[25] = data[['original_title', 'overview', 'list_production_companies']] \\\n",
    "    .assign(overview_worlds_count = data.overview.str.split().str.len()) \\\n",
    "    .explode('list_production_companies') \\\n",
    "    .groupby(by='list_production_companies').overview_worlds_count.mean() \\\n",
    "    .sort_values(ascending=False) \\\n",
    "    .index[0]\n",
    "answers[25]"
   ]
  },
  {
   "cell_type": "markdown",
   "metadata": {
    "colab_type": "text",
    "id": "FJ1AFt90VqAP"
   },
   "source": [
    "# 26. Какие фильмы входят в 1 процент лучших по рейтингу? \n",
    "по vote_average"
   ]
  },
  {
   "cell_type": "code",
   "execution_count": 55,
   "metadata": {
    "colab": {},
    "colab_type": "code",
    "id": "8qmJVq4CVqAQ"
   },
   "outputs": [
    {
     "data": {
      "text/plain": [
       "['12 Years a Slave',\n",
       " '3 Idiots',\n",
       " 'Big Hero 6',\n",
       " 'Dallas Buyers Club',\n",
       " 'Eternal Sunshine of the Spotless Mind',\n",
       " 'Gone Girl',\n",
       " 'Guardians of the Galaxy',\n",
       " 'Her',\n",
       " 'Inception',\n",
       " 'Inside Out',\n",
       " 'Interstellar',\n",
       " 'Memento',\n",
       " 'Mr. Nobody',\n",
       " 'Prisoners',\n",
       " 'Room',\n",
       " 'Spotlight',\n",
       " 'The Dark Knight',\n",
       " 'The Fault in Our Stars',\n",
       " 'The Grand Budapest Hotel',\n",
       " 'The Imitation Game',\n",
       " 'The Lord of the Rings: The Fellowship of the Ring',\n",
       " 'The Lord of the Rings: The Return of the King',\n",
       " 'The Lord of the Rings: The Two Towers',\n",
       " 'The Pianist',\n",
       " 'The Prestige',\n",
       " 'The Theory of Everything',\n",
       " 'The Wolf of Wall Street',\n",
       " 'There Will Be Blood']"
      ]
     },
     "execution_count": 55,
     "metadata": {},
     "output_type": "execute_result"
    }
   ],
   "source": [
    "# Определим список фильмов, имеющих рейтинг, позволяющий войти в 1% лучших\n",
    "answers[26] = sorted(data[data.vote_average >= data.describe(percentiles=[0.99]).vote_average['99%']].original_title)\n",
    "answers[26]"
   ]
  },
  {
   "cell_type": "code",
   "execution_count": 56,
   "metadata": {
    "colab": {},
    "colab_type": "code",
    "id": "8qmJVq4CVqAQ"
   },
   "outputs": [
    {
     "data": {
      "text/plain": [
       "['12 Years a Slave',\n",
       " '3 Idiots',\n",
       " 'Big Hero 6',\n",
       " 'Dallas Buyers Club',\n",
       " 'Eternal Sunshine of the Spotless Mind',\n",
       " 'Gone Girl',\n",
       " 'Guardians of the Galaxy',\n",
       " 'Her',\n",
       " 'Inception',\n",
       " 'Inside Out',\n",
       " 'Interstellar',\n",
       " 'Memento',\n",
       " 'Mr. Nobody',\n",
       " 'Prisoners',\n",
       " 'Room',\n",
       " 'Spotlight',\n",
       " 'The Dark Knight',\n",
       " 'The Fault in Our Stars',\n",
       " 'The Grand Budapest Hotel',\n",
       " 'The Imitation Game',\n",
       " 'The Lord of the Rings: The Fellowship of the Ring',\n",
       " 'The Lord of the Rings: The Return of the King',\n",
       " 'The Lord of the Rings: The Two Towers',\n",
       " 'The Pianist',\n",
       " 'The Prestige',\n",
       " 'The Theory of Everything',\n",
       " 'The Wolf of Wall Street',\n",
       " 'There Will Be Blood']"
      ]
     },
     "execution_count": 56,
     "metadata": {},
     "output_type": "execute_result"
    }
   ],
   "source": [
    "# Вариант 2, с самостоятельным расчетом граничного рейтинга, в первом варианте использована встроенная функция\n",
    "rating_top1_percent = data.sort_values(by='vote_average', ascending=False).vote_average.iloc[int(len(data)*0.01)]\n",
    "sorted(data[data.vote_average >= rating_top1_percent].original_title)"
   ]
  },
  {
   "cell_type": "markdown",
   "metadata": {
    "colab_type": "text",
    "id": "MdXsUXbCVqAV"
   },
   "source": [
    "# 27. Какие актеры чаще всего снимаются в одном фильме вместе?\n"
   ]
  },
  {
   "cell_type": "code",
   "execution_count": 57,
   "metadata": {},
   "outputs": [
    {
     "data": {
      "text/plain": [
       "[(('Daniel Radcliffe', 'Rupert Grint'), 8),\n",
       " (('Daniel Radcliffe', 'Emma Watson'), 8),\n",
       " (('Rupert Grint', 'Emma Watson'), 7),\n",
       " (('Ben Stiller', 'Owen Wilson'), 6),\n",
       " (('Johnny Depp', 'Helena Bonham Carter'), 6)]"
      ]
     },
     "execution_count": 57,
     "metadata": {},
     "output_type": "execute_result"
    }
   ],
   "source": [
    "Counter(chain.from_iterable(data.list_cast.apply(combinations, r=2))).most_common(5)"
   ]
  },
  {
   "cell_type": "code",
   "execution_count": 58,
   "metadata": {},
   "outputs": [
    {
     "data": {
      "text/plain": [
       "[('Daniel Radcliffe', 'Rupert Grint'), ('Daniel Radcliffe', 'Emma Watson')]"
      ]
     },
     "execution_count": 58,
     "metadata": {},
     "output_type": "execute_result"
    }
   ],
   "source": [
    "# Подготовим ответ на вопрос. Это не так просто оказалось, учитывая несколько вариантов ответа\n",
    "pairs = pd.Series(Counter(chain.from_iterable(data.list_cast.apply(combinations, r=2))))\n",
    "answers[27] = list(pairs[pairs == pairs.max()].index)\n",
    "answers[27]"
   ]
  },
  {
   "cell_type": "code",
   "execution_count": 59,
   "metadata": {},
   "outputs": [
    {
     "data": {
      "text/plain": [
       "[(('Daniel Radcliffe', 'Rupert Grint'), 8),\n",
       " (('Daniel Radcliffe', 'Emma Watson'), 8),\n",
       " (('Rupert Grint', 'Emma Watson'), 7),\n",
       " (('Ben Stiller', 'Owen Wilson'), 6),\n",
       " (('Johnny Depp', 'Helena Bonham Carter'), 6)]"
      ]
     },
     "execution_count": 59,
     "metadata": {},
     "output_type": "execute_result"
    }
   ],
   "source": [
    "# Вариант 2, расчет с использованием цикла\n",
    "pairs = Counter()\n",
    "for cast in data.list_cast:\n",
    "    # Создаем пары для всех актеров в списке и идем по ним\n",
    "    for pair in list(combinations(cast, 2)):\n",
    "        if pair not in pairs:\n",
    "            pairs[pair] = 1\n",
    "        else:\n",
    "            pairs[pair] += 1\n",
    "pairs.most_common(5)"
   ]
  },
  {
   "cell_type": "code",
   "execution_count": 60,
   "metadata": {},
   "outputs": [],
   "source": [
    "# Сравним варианты по времени"
   ]
  },
  {
   "cell_type": "code",
   "execution_count": 61,
   "metadata": {},
   "outputs": [
    {
     "name": "stdout",
     "output_type": "stream",
     "text": [
      "6.86 ms ± 662 µs per loop (mean ± std. dev. of 7 runs, 100 loops each)\n"
     ]
    }
   ],
   "source": [
    "%%timeit\n",
    "Counter(chain.from_iterable(data.list_cast.apply(combinations, r=2))).most_common(5)"
   ]
  },
  {
   "cell_type": "code",
   "execution_count": 62,
   "metadata": {},
   "outputs": [
    {
     "name": "stdout",
     "output_type": "stream",
     "text": [
      "9.3 ms ± 278 µs per loop (mean ± std. dev. of 7 runs, 100 loops each)\n"
     ]
    }
   ],
   "source": [
    "%%timeit\n",
    "pairs = Counter()\n",
    "for cast in data.list_cast:\n",
    "    # Создаем пары для всех актеров в списке и идем по ним\n",
    "    for pair in list(combinations(cast, 2)):\n",
    "        if pair not in pairs:\n",
    "            pairs[pair] = 1\n",
    "        else:\n",
    "            pairs[pair] += 1\n",
    "pairs.most_common(5)"
   ]
  },
  {
   "cell_type": "markdown",
   "metadata": {
    "colab_type": "text",
    "id": "U0nONFnGVqAX"
   },
   "source": [
    "# Submission"
   ]
  },
  {
   "cell_type": "code",
   "execution_count": 63,
   "metadata": {
    "colab": {},
    "colab_type": "code",
    "id": "IfcaRO9-VqAX",
    "outputId": "0f132912-32bb-4196-c98c-abfbc4ad5a5f"
   },
   "outputs": [
    {
     "data": {
      "text/plain": [
       "{1: 'Pirates of the Caribbean: On Stranger Tides',\n",
       " 2: 'Gods and Generals',\n",
       " 3: 'Winnie the Pooh',\n",
       " 4: 110,\n",
       " 5: 107.0,\n",
       " 6: 'Avatar',\n",
       " 7: 'The Lone Ranger',\n",
       " 8: 1478,\n",
       " 9: 'The Dark Knight',\n",
       " 10: 'The Lone Ranger',\n",
       " 11: 'Drama',\n",
       " 12: 'Drama',\n",
       " 13: 'Peter Jackson',\n",
       " 14: 'Robert Rodriguez',\n",
       " 15: 'Chris Hemsworth',\n",
       " 16: 'Matt Damon',\n",
       " 17: 'Action',\n",
       " 18: 'K-19: The Widowmaker',\n",
       " 19: 2015,\n",
       " 20: 2014,\n",
       " 21: 9,\n",
       " 22: 450,\n",
       " 23: 'Peter Jackson',\n",
       " 24: 'Four By Two Productions',\n",
       " 25: 'Midnight Picture Show',\n",
       " 26: ['12 Years a Slave',\n",
       "  '3 Idiots',\n",
       "  'Big Hero 6',\n",
       "  'Dallas Buyers Club',\n",
       "  'Eternal Sunshine of the Spotless Mind',\n",
       "  'Gone Girl',\n",
       "  'Guardians of the Galaxy',\n",
       "  'Her',\n",
       "  'Inception',\n",
       "  'Inside Out',\n",
       "  'Interstellar',\n",
       "  'Memento',\n",
       "  'Mr. Nobody',\n",
       "  'Prisoners',\n",
       "  'Room',\n",
       "  'Spotlight',\n",
       "  'The Dark Knight',\n",
       "  'The Fault in Our Stars',\n",
       "  'The Grand Budapest Hotel',\n",
       "  'The Imitation Game',\n",
       "  'The Lord of the Rings: The Fellowship of the Ring',\n",
       "  'The Lord of the Rings: The Return of the King',\n",
       "  'The Lord of the Rings: The Two Towers',\n",
       "  'The Pianist',\n",
       "  'The Prestige',\n",
       "  'The Theory of Everything',\n",
       "  'The Wolf of Wall Street',\n",
       "  'There Will Be Blood'],\n",
       " 27: [('Daniel Radcliffe', 'Rupert Grint'),\n",
       "  ('Daniel Radcliffe', 'Emma Watson')]}"
      ]
     },
     "execution_count": 63,
     "metadata": {},
     "output_type": "execute_result"
    }
   ],
   "source": [
    "# в конце можно посмотреть свои ответы к каждому вопросу\n",
    "answers"
   ]
  },
  {
   "cell_type": "code",
   "execution_count": 64,
   "metadata": {
    "colab": {},
    "colab_type": "code",
    "id": "SiRmHPl8VqAd"
   },
   "outputs": [
    {
     "data": {
      "text/plain": [
       "27"
      ]
     },
     "execution_count": 64,
     "metadata": {},
     "output_type": "execute_result"
    }
   ],
   "source": [
    "# и убедиться что ни чего не пропустил)\n",
    "len(answers)"
   ]
  }
 ],
 "metadata": {
  "colab": {
   "name": "Copy of [SF-DST] Movies IMBD v4.1 TEMPLATE.ipynb",
   "provenance": []
  },
  "kernelspec": {
   "display_name": "Python 3",
   "language": "python",
   "name": "python3"
  },
  "language_info": {
   "codemirror_mode": {
    "name": "ipython",
    "version": 3
   },
   "file_extension": ".py",
   "mimetype": "text/x-python",
   "name": "python",
   "nbconvert_exporter": "python",
   "pygments_lexer": "ipython3",
   "version": "3.7.6"
  }
 },
 "nbformat": 4,
 "nbformat_minor": 1
}
