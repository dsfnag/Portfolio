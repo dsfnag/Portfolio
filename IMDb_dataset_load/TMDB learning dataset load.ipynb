{
 "cells": [
  {
   "cell_type": "code",
   "execution_count": null,
   "metadata": {},
   "outputs": [],
   "source": [
    "# К сожалению, IMDb не предоставляет никакой другой информации. Поэтому пришлось искать альтернативу.\n",
    "# Она есть. Это TMDB. Для загрузки дополнительной информации о фильмах необходимо использовать API key\n",
    "# Указанный ниже SECRET_TMDB_API_KEY может перестать работать, тогда надо будет получить новый\n",
    "# Инструкции здесь - https://www.themoviedb.org/documentation/api/\n",
    "SECRET_TMDB_API_KEY = '74c77374f25ceb2688ab912ddab305f7'"
   ]
  },
  {
   "cell_type": "markdown",
   "metadata": {},
   "source": [
    "![TMDB logo](https://www.themoviedb.org/assets/2/v4/logos/v2/blue_short-8e7b30f73a4020692ccca9c88bafe5dcb6f8a62a4c6bc55cd9ba82bb2cd95f6c.svg)\n",
    "# [The Movie Database (TMDb)](https://www.themoviedb.org/about)\n",
    "The Movie Database (TMDb) is a community built movie and TV database. Every piece of data has been added by our amazing community dating back to 2008. TMDb's strong international focus and breadth of data is largely unmatched and something we're incredibly proud of. Put simply, we live and breathe community and that's precisely what makes us different.\n",
    "\n",
    "Every year since 2008, the number of contributions to our database has increased. With over 200,000 developers and companies using our platform, TMDb has become a premiere source for metadata.\n",
    "\n",
    "## Grant of License to You to use Contributions for Personal, Non-Commercial Purposes\n",
    "\n",
    "[License](https://www.themoviedb.org/terms-of-use).\n",
    "\n",
    "We grant you a non-exclusive license to use and copy other users' Contributions solely for personal, non-commercial purposes subject to the restrictions set forth herein."
   ]
  },
  {
   "cell_type": "code",
   "execution_count": null,
   "metadata": {},
   "outputs": [],
   "source": []
  }
 ],
 "metadata": {
  "kernelspec": {
   "display_name": "Python 3",
   "language": "python",
   "name": "python3"
  },
  "language_info": {
   "codemirror_mode": {
    "name": "ipython",
    "version": 3
   },
   "file_extension": ".py",
   "mimetype": "text/x-python",
   "name": "python",
   "nbconvert_exporter": "python",
   "pygments_lexer": "ipython3",
   "version": "3.7.6"
  }
 },
 "nbformat": 4,
 "nbformat_minor": 4
}
